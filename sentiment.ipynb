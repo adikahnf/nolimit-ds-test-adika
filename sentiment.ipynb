{
 "cells": [
  {
   "cell_type": "markdown",
   "id": "3613e7fe",
   "metadata": {},
   "source": [
    "### Import Necessary Libraries"
   ]
  },
  {
   "cell_type": "code",
   "execution_count": 39,
   "id": "1402cda9",
   "metadata": {},
   "outputs": [],
   "source": [
    "import pandas as pd\n",
    "import os\n",
    "import matplotlib.pyplot as plt\n",
    "import numpy as np\n",
    "import faiss\n",
    "from tqdm import tqdm\n",
    "import seaborn as sns\n",
    "\n",
    "from sklearn.model_selection import train_test_split\n",
    "from sklearn.metrics import classification_report, accuracy_score, confusion_matrix, f1_score\n",
    "from sklearn.linear_model import LogisticRegression\n",
    "from sklearn.preprocessing import LabelEncoder\n",
    "from sentence_transformers import SentenceTransformer\n",
    "from sklearn.svm import LinearSVC\n",
    "from sklearn.calibration import CalibratedClassifierCV"
   ]
  },
  {
   "cell_type": "markdown",
   "id": "271a3e72",
   "metadata": {},
   "source": [
    "### Data Understanding"
   ]
  },
  {
   "cell_type": "code",
   "execution_count": 40,
   "id": "06952686",
   "metadata": {},
   "outputs": [],
   "source": [
    "DATA_PATH = \"tokopedia-product-reviews-2019.csv\""
   ]
  },
  {
   "cell_type": "code",
   "execution_count": 41,
   "id": "49bc7ac5",
   "metadata": {},
   "outputs": [
    {
     "name": "stdout",
     "output_type": "stream",
     "text": [
      "Loaded Full Dataset : tokopedia-product-reviews-2019.csv -> (40607, 8)\n"
     ]
    }
   ],
   "source": [
    "# Load Dataset\n",
    "if os.path.exists(DATA_PATH):\n",
    "    df = pd.read_csv(DATA_PATH, index_col=0)\n",
    "    print(f\"Loaded Full Dataset : {DATA_PATH} -> {df.shape}\")\n",
    "else:\n",
    "    raise FileNotFoundError(\n",
    "        \"No CSV found. Please place a CSV in directory\"\n",
    "    )"
   ]
  },
  {
   "cell_type": "code",
   "execution_count": 42,
   "id": "6c7dfc0c",
   "metadata": {},
   "outputs": [
    {
     "name": "stdout",
     "output_type": "stream",
     "text": [
      "Dataset Overview : \n",
      "Columns : ['text', 'rating', 'category', 'product_name', 'product_id', 'sold', 'shop_id', 'product_url']\n",
      "\n",
      "First 5 Rows : \n"
     ]
    },
    {
     "data": {
      "text/html": [
       "<div>\n",
       "<style scoped>\n",
       "    .dataframe tbody tr th:only-of-type {\n",
       "        vertical-align: middle;\n",
       "    }\n",
       "\n",
       "    .dataframe tbody tr th {\n",
       "        vertical-align: top;\n",
       "    }\n",
       "\n",
       "    .dataframe thead th {\n",
       "        text-align: right;\n",
       "    }\n",
       "</style>\n",
       "<table border=\"1\" class=\"dataframe\">\n",
       "  <thead>\n",
       "    <tr style=\"text-align: right;\">\n",
       "      <th></th>\n",
       "      <th>text</th>\n",
       "      <th>rating</th>\n",
       "      <th>category</th>\n",
       "      <th>product_name</th>\n",
       "      <th>product_id</th>\n",
       "      <th>sold</th>\n",
       "      <th>shop_id</th>\n",
       "      <th>product_url</th>\n",
       "    </tr>\n",
       "  </thead>\n",
       "  <tbody>\n",
       "    <tr>\n",
       "      <th>1</th>\n",
       "      <td>Barang sesuai pesanan dan cepat sampai</td>\n",
       "      <td>5</td>\n",
       "      <td>pertukangan</td>\n",
       "      <td>Staples Dekorasi Staples Kayu + Refill 8mm - S...</td>\n",
       "      <td>418660637</td>\n",
       "      <td>1</td>\n",
       "      <td>1740837</td>\n",
       "      <td>https://www.tokopedia.com/shakaonline87/staple...</td>\n",
       "    </tr>\n",
       "    <tr>\n",
       "      <th>2</th>\n",
       "      <td>Barang bagus harga murah</td>\n",
       "      <td>5</td>\n",
       "      <td>pertukangan</td>\n",
       "      <td>STAPLE GUN ATS 3 WAY TACKER - STAPLES JOK TEMB...</td>\n",
       "      <td>416032545</td>\n",
       "      <td>11</td>\n",
       "      <td>1477109</td>\n",
       "      <td>https://www.tokopedia.com/juraganperkakas/stap...</td>\n",
       "    </tr>\n",
       "    <tr>\n",
       "      <th>3</th>\n",
       "      <td>Paket rapi...mantap....cepat....sampe ke tujuan</td>\n",
       "      <td>5</td>\n",
       "      <td>pertukangan</td>\n",
       "      <td>STAPLE GUN ATS 3 WAY TACKER - STAPLES JOK TEMB...</td>\n",
       "      <td>416032545</td>\n",
       "      <td>11</td>\n",
       "      <td>1477109</td>\n",
       "      <td>https://www.tokopedia.com/juraganperkakas/stap...</td>\n",
       "    </tr>\n",
       "    <tr>\n",
       "      <th>4</th>\n",
       "      <td>ya saya puas dgn barangnya</td>\n",
       "      <td>5</td>\n",
       "      <td>pertukangan</td>\n",
       "      <td>ALAT STAPLES TEMBAK &amp;#40;AIR NAILER GUN&amp;#41; O...</td>\n",
       "      <td>102279869</td>\n",
       "      <td>5</td>\n",
       "      <td>771395</td>\n",
       "      <td>https://www.tokopedia.com/kamarmesin/alat-stap...</td>\n",
       "    </tr>\n",
       "    <tr>\n",
       "      <th>5</th>\n",
       "      <td>Responya luar biasa b mantap</td>\n",
       "      <td>5</td>\n",
       "      <td>pertukangan</td>\n",
       "      <td>Isi Refill Staples Jok Kulit Motor / Staple Gu...</td>\n",
       "      <td>190679689</td>\n",
       "      <td>787</td>\n",
       "      <td>969999</td>\n",
       "      <td>https://www.tokopedia.com/mitrapersada/isi-ref...</td>\n",
       "    </tr>\n",
       "  </tbody>\n",
       "</table>\n",
       "</div>"
      ],
      "text/plain": [
       "                                              text  rating     category  \\\n",
       "1           Barang sesuai pesanan dan cepat sampai       5  pertukangan   \n",
       "2                         Barang bagus harga murah       5  pertukangan   \n",
       "3  Paket rapi...mantap....cepat....sampe ke tujuan       5  pertukangan   \n",
       "4                       ya saya puas dgn barangnya       5  pertukangan   \n",
       "5                     Responya luar biasa b mantap       5  pertukangan   \n",
       "\n",
       "                                        product_name  product_id sold  \\\n",
       "1  Staples Dekorasi Staples Kayu + Refill 8mm - S...   418660637    1   \n",
       "2  STAPLE GUN ATS 3 WAY TACKER - STAPLES JOK TEMB...   416032545   11   \n",
       "3  STAPLE GUN ATS 3 WAY TACKER - STAPLES JOK TEMB...   416032545   11   \n",
       "4  ALAT STAPLES TEMBAK &#40;AIR NAILER GUN&#41; O...   102279869    5   \n",
       "5  Isi Refill Staples Jok Kulit Motor / Staple Gu...   190679689  787   \n",
       "\n",
       "   shop_id                                        product_url  \n",
       "1  1740837  https://www.tokopedia.com/shakaonline87/staple...  \n",
       "2  1477109  https://www.tokopedia.com/juraganperkakas/stap...  \n",
       "3  1477109  https://www.tokopedia.com/juraganperkakas/stap...  \n",
       "4   771395  https://www.tokopedia.com/kamarmesin/alat-stap...  \n",
       "5   969999  https://www.tokopedia.com/mitrapersada/isi-ref...  "
      ]
     },
     "execution_count": 42,
     "metadata": {},
     "output_type": "execute_result"
    }
   ],
   "source": [
    "#Display Basic Info\n",
    "print(\"Dataset Overview : \")\n",
    "print(f\"Columns : {df.columns.tolist()}\")\n",
    "print(f\"\\nFirst 5 Rows : \")\n",
    "df.head()"
   ]
  },
  {
   "cell_type": "code",
   "execution_count": 43,
   "id": "387ecb44",
   "metadata": {},
   "outputs": [
    {
     "name": "stdout",
     "output_type": "stream",
     "text": [
      "<class 'pandas.core.frame.DataFrame'>\n",
      "Index: 40607 entries, 1 to 40893\n",
      "Data columns (total 8 columns):\n",
      " #   Column        Non-Null Count  Dtype \n",
      "---  ------        --------------  ----- \n",
      " 0   text          40607 non-null  object\n",
      " 1   rating        40607 non-null  int64 \n",
      " 2   category      40607 non-null  object\n",
      " 3   product_name  40607 non-null  object\n",
      " 4   product_id    40607 non-null  int64 \n",
      " 5   sold          40593 non-null  object\n",
      " 6   shop_id       40607 non-null  int64 \n",
      " 7   product_url   40607 non-null  object\n",
      "dtypes: int64(3), object(5)\n",
      "memory usage: 2.8+ MB\n"
     ]
    }
   ],
   "source": [
    "df.info()"
   ]
  },
  {
   "cell_type": "markdown",
   "id": "7076aeba",
   "metadata": {},
   "source": [
    "### Exploratory Data Analysis"
   ]
  },
  {
   "cell_type": "code",
   "execution_count": 44,
   "id": "6c543c0e",
   "metadata": {},
   "outputs": [
    {
     "name": "stdout",
     "output_type": "stream",
     "text": [
      "Performing Exploratory Data Analysis...\n",
      "\n",
      " Dataset Statistics:\n",
      "Missing values: \n",
      " text             0\n",
      "rating           0\n",
      "category         0\n",
      "product_name     0\n",
      "product_id       0\n",
      "sold            14\n",
      "shop_id          0\n",
      "product_url      0\n",
      "dtype: int64\n",
      "Duplicate Data :  0\n"
     ]
    },
    {
     "data": {
      "image/png": "[encoded data removed]",
      "text/plain": [
       "<Figure size 1200x400 with 1 Axes>"
      ]
     },
     "metadata": {},
     "output_type": "display_data"
    }
   ],
   "source": [
    "def perform_eda(df):\n",
    "    \"\"\"\n",
    "    Comprehensive exploratory data analysis\n",
    "    \"\"\"\n",
    "    \n",
    "    print(\"Performing Exploratory Data Analysis...\")\n",
    "    \n",
    "    # Basic statistics\n",
    "    print(\"\\n Dataset Statistics:\")\n",
    "    print(\"Missing values: \\n\", df.isna().sum())\n",
    "    print(\"Duplicate Data : \", df.duplicated().sum())\n",
    "    \n",
    "    # Rating distribution\n",
    "    if 'rating' in df.columns:\n",
    "        plt.figure(figsize=(12, 4))\n",
    "        df['rating'].value_counts().sort_index().plot(kind='bar', color='skyblue')\n",
    "        plt.title('Rating Distribution')\n",
    "        plt.xlabel('Rating')\n",
    "        plt.ylabel('Count')\n",
    "        plt.xticks(rotation=0)\n",
    "        plt.tight_layout()\n",
    "        plt.show()\n",
    "    \n",
    "    return df\n",
    "\n",
    "df_eda = perform_eda(df)"
   ]
  },
  {
   "cell_type": "code",
   "execution_count": 45,
   "id": "bc28bcd6",
   "metadata": {},
   "outputs": [
    {
     "name": "stdout",
     "output_type": "stream",
     "text": [
      "rating\n",
      "5    30311\n",
      "4     7546\n",
      "3     1825\n",
      "1      543\n",
      "2      382\n",
      "Name: count, dtype: int64\n"
     ]
    }
   ],
   "source": [
    "# Check the value of Rating Columns\n",
    "uniques_counts = df['rating'].value_counts()\n",
    "print(uniques_counts)"
   ]
  },
  {
   "cell_type": "markdown",
   "id": "9bf6aace",
   "metadata": {},
   "source": [
    "### Labelling"
   ]
  },
  {
   "cell_type": "code",
   "execution_count": 46,
   "id": "d4ba0dec",
   "metadata": {},
   "outputs": [
    {
     "data": {
      "text/html": [
       "<div>\n",
       "<style scoped>\n",
       "    .dataframe tbody tr th:only-of-type {\n",
       "        vertical-align: middle;\n",
       "    }\n",
       "\n",
       "    .dataframe tbody tr th {\n",
       "        vertical-align: top;\n",
       "    }\n",
       "\n",
       "    .dataframe thead th {\n",
       "        text-align: right;\n",
       "    }\n",
       "</style>\n",
       "<table border=\"1\" class=\"dataframe\">\n",
       "  <thead>\n",
       "    <tr style=\"text-align: right;\">\n",
       "      <th></th>\n",
       "      <th>text</th>\n",
       "      <th>rating</th>\n",
       "      <th>label</th>\n",
       "    </tr>\n",
       "  </thead>\n",
       "  <tbody>\n",
       "    <tr>\n",
       "      <th>1</th>\n",
       "      <td>Barang sesuai pesanan dan cepat sampai</td>\n",
       "      <td>5</td>\n",
       "      <td>positive</td>\n",
       "    </tr>\n",
       "    <tr>\n",
       "      <th>2</th>\n",
       "      <td>Barang bagus harga murah</td>\n",
       "      <td>5</td>\n",
       "      <td>positive</td>\n",
       "    </tr>\n",
       "    <tr>\n",
       "      <th>3</th>\n",
       "      <td>Paket rapi...mantap....cepat....sampe ke tujuan</td>\n",
       "      <td>5</td>\n",
       "      <td>positive</td>\n",
       "    </tr>\n",
       "    <tr>\n",
       "      <th>4</th>\n",
       "      <td>ya saya puas dgn barangnya</td>\n",
       "      <td>5</td>\n",
       "      <td>positive</td>\n",
       "    </tr>\n",
       "    <tr>\n",
       "      <th>5</th>\n",
       "      <td>Responya luar biasa b mantap</td>\n",
       "      <td>5</td>\n",
       "      <td>positive</td>\n",
       "    </tr>\n",
       "  </tbody>\n",
       "</table>\n",
       "</div>"
      ],
      "text/plain": [
       "                                              text  rating     label\n",
       "1           Barang sesuai pesanan dan cepat sampai       5  positive\n",
       "2                         Barang bagus harga murah       5  positive\n",
       "3  Paket rapi...mantap....cepat....sampe ke tujuan       5  positive\n",
       "4                       ya saya puas dgn barangnya       5  positive\n",
       "5                     Responya luar biasa b mantap       5  positive"
      ]
     },
     "execution_count": 46,
     "metadata": {},
     "output_type": "execute_result"
    }
   ],
   "source": [
    "# Map Rating -> Sentiment\n",
    "def map_rating_to_label(label):\n",
    "    if label >= 4: return \"positive\"\n",
    "    if label <= 2: return \"negative\"\n",
    "    return \"neutral\"\n",
    "\n",
    "df_sentiment = df.dropna(subset=[\"text\", \"rating\"]).copy()\n",
    "df_sentiment['label'] = df['rating'].astype(int).map(map_rating_to_label)\n",
    "df_sentiment[[\"text\",\"rating\",\"label\"]].head()"
   ]
  },
  {
   "cell_type": "markdown",
   "id": "eda5d46a",
   "metadata": {},
   "source": [
    "### Train / Val / Test Split (Stratified)"
   ]
  },
  {
   "cell_type": "code",
   "execution_count": 47,
   "id": "6dd6515f",
   "metadata": {},
   "outputs": [
    {
     "name": "stdout",
     "output_type": "stream",
     "text": [
      "train label\n",
      "positive    0.932\n",
      "neutral     0.045\n",
      "negative    0.023\n",
      "Name: proportion, dtype: float64\n",
      "val label\n",
      "positive    0.932\n",
      "neutral     0.045\n",
      "negative    0.023\n",
      "Name: proportion, dtype: float64\n",
      "test label\n",
      "positive    0.932\n",
      "neutral     0.045\n",
      "negative    0.023\n",
      "Name: proportion, dtype: float64\n"
     ]
    }
   ],
   "source": [
    "# Test Set \n",
    "X_trainval, X_test = train_test_split(df_sentiment, test_size=0.15, random_state=42, stratify=df_sentiment[\"label\"])\n",
    "\n",
    "# Split 85% to train & validation\n",
    "# Validation 15% so 15% of 85% -> 0.176\n",
    "X_train, X_val = train_test_split(X_trainval, test_size=0.1765, random_state=42, stratify=X_trainval[\"label\"])  # => ~70/15/15 total\n",
    "\n",
    "for name, X in [(\"train\", X_train), (\"val\", X_val), (\"test\", X_test)]:\n",
    "    print(name, X[\"label\"].value_counts(normalize=True).round(3))"
   ]
  },
  {
   "cell_type": "code",
   "execution_count": 48,
   "id": "1f6ef0ae",
   "metadata": {},
   "outputs": [
    {
     "name": "stdout",
     "output_type": "stream",
     "text": [
      "FULL: {'positive': 0.932, 'neutral': 0.045, 'negative': 0.023}\n",
      "TRAIN: {'positive': 0.932, 'neutral': 0.045, 'negative': 0.023}\n",
      "VAL  : {'positive': 0.932, 'neutral': 0.045, 'negative': 0.023}\n",
      "TEST : {'positive': 0.932, 'neutral': 0.045, 'negative': 0.023}\n"
     ]
    }
   ],
   "source": [
    "print(\"FULL:\", df_sentiment[\"label\"].value_counts(normalize=True).round(3).to_dict())\n",
    "print(\"TRAIN:\", X_train[\"label\"].value_counts(normalize=True).round(3).to_dict())\n",
    "print(\"VAL  :\", X_val[\"label\"].value_counts(normalize=True).round(3).to_dict())\n",
    "print(\"TEST :\", X_test[\"label\"].value_counts(normalize=True).round(3).to_dict())\n"
   ]
  },
  {
   "cell_type": "markdown",
   "id": "abc4ef61",
   "metadata": {},
   "source": [
    "The Stratification is worked make the FULL, TRAIN, VAL, TEST at the same class ratios"
   ]
  },
  {
   "cell_type": "markdown",
   "id": "163aaf98",
   "metadata": {},
   "source": [
    "### Hugging Face"
   ]
  },
  {
   "cell_type": "code",
   "execution_count": 49,
   "id": "ebf835ea",
   "metadata": {},
   "outputs": [],
   "source": [
    "model = SentenceTransformer(\"paraphrase-multilingual-MiniLM-L12-v2\")  # good for Indonesian\n",
    "\n",
    "def embed(texts):\n",
    "    return model.encode(texts, convert_to_numpy=True, normalize_embeddings=True).astype(\"float32\")\n",
    "\n",
    "E_train = embed(X_train[\"text\"].tolist())\n",
    "E_val   = embed(X_val[\"text\"].tolist())\n",
    "E_test  = embed(X_test[\"text\"].tolist())\n",
    "\n",
    "y_train = X_train[\"label\"].tolist()\n",
    "y_val   = X_val[\"label\"].tolist()\n",
    "y_test  = X_test[\"label\"].tolist()"
   ]
  },
  {
   "cell_type": "code",
   "execution_count": 50,
   "id": "d4db79d2",
   "metadata": {},
   "outputs": [
    {
     "name": "stdout",
     "output_type": "stream",
     "text": [
      "=== VAL ===\n",
      "              precision    recall  f1-score   support\n",
      "\n",
      "    negative      0.230     0.705     0.347       139\n",
      "     neutral      0.092     0.387     0.148       274\n",
      "    positive      0.978     0.777     0.866      5679\n",
      "\n",
      "    accuracy                          0.758      6092\n",
      "   macro avg      0.433     0.623     0.454      6092\n",
      "weighted avg      0.922     0.758     0.822      6092\n",
      "\n",
      "=== TEST ===\n",
      "              precision    recall  f1-score   support\n",
      "\n",
      "    negative      0.220     0.676     0.332       139\n",
      "     neutral      0.097     0.401     0.156       274\n",
      "    positive      0.976     0.779     0.867      5679\n",
      "\n",
      "    accuracy                          0.760      6092\n",
      "   macro avg      0.431     0.619     0.452      6092\n",
      "weighted avg      0.919     0.760     0.822      6092\n",
      "\n",
      "Confusion matrix (TEST):\n",
      " [[  94   35   10]\n",
      " [  66  110   98]\n",
      " [ 267  988 4424]]\n"
     ]
    }
   ],
   "source": [
    "# Logistic Regression Model \n",
    "clf = LogisticRegression(max_iter=3000, class_weight=\"balanced\")\n",
    "clf.fit(E_train, y_train)\n",
    "\n",
    "print(\"=== VAL ===\")\n",
    "pred_val = clf.predict(E_val)\n",
    "print(classification_report(y_val, pred_val, digits=3))\n",
    "\n",
    "print(\"=== TEST ===\")\n",
    "pred_test = clf.predict(E_test)\n",
    "print(classification_report(y_test, pred_test, digits=3))\n",
    "print(\"Confusion matrix (TEST):\\n\", confusion_matrix(y_test, pred_test))"
   ]
  },
  {
   "cell_type": "markdown",
   "id": "c0f81621",
   "metadata": {},
   "source": [
    "### Downsampling Positives into 3x size of (Negative + Neutral) Combined"
   ]
  },
  {
   "cell_type": "code",
   "execution_count": 51,
   "id": "341f21b1",
   "metadata": {},
   "outputs": [
    {
     "name": "stdout",
     "output_type": "stream",
     "text": [
      "TRAIN (original): {'positive': 26499, 'neutral': 1277, 'negative': 647}\n",
      "TRAIN (downsampled): {'positive': 5772, 'neutral': 1277, 'negative': 647}\n"
     ]
    }
   ],
   "source": [
    "# --- Downsample positives in TRAIN only (keep VAL/TEST untouched)\n",
    "train = X_train.copy()\n",
    "\n",
    "pos = train[train.label == \"positive\"]\n",
    "neu = train[train.label == \"neutral\"]\n",
    "neg = train[train.label == \"negative\"]\n",
    "\n",
    "# target: make POS about 3x the size of (NEG+NEU) combined\n",
    "target_pos = int(3 * (len(neu) + len(neg)))\n",
    "\n",
    "# if we have more positives than target, sample down; else keep all\n",
    "pos_down = pos.sample(n=min(len(pos), target_pos), random_state=42)\n",
    "\n",
    "train_bal = pd.concat([pos_down, neu, neg]).sample(frac=1, random_state=42).reset_index(drop=True)\n",
    "\n",
    "print(\"TRAIN (original):\", X_train.label.value_counts().to_dict())\n",
    "print(\"TRAIN (downsampled):\", train_bal.label.value_counts().to_dict())\n"
   ]
  },
  {
   "cell_type": "code",
   "execution_count": 52,
   "id": "d9a35a87",
   "metadata": {},
   "outputs": [],
   "source": [
    "# Rebuild embeddings using the downsampled TRAIN\n",
    "E_train = embed(train_bal[\"text\"].tolist())\n",
    "y_train = train_bal[\"label\"].tolist()\n",
    "\n",
    "# (VAL/TEST stay as you already built)\n",
    "E_val   = embed(X_val[\"text\"].tolist())\n",
    "E_test  = embed(X_test[\"text\"].tolist())\n",
    "y_val   = X_val[\"label\"].tolist()\n",
    "y_test  = X_test[\"label\"].tolist()\n"
   ]
  },
  {
   "cell_type": "code",
   "execution_count": 53,
   "id": "fd9feff4",
   "metadata": {},
   "outputs": [
    {
     "name": "stdout",
     "output_type": "stream",
     "text": [
      "=== VAL (downsampled-train) ===\n",
      "              precision    recall  f1-score   support\n",
      "\n",
      "    negative      0.231     0.727     0.351       139\n",
      "     neutral      0.089     0.372     0.143       274\n",
      "    positive      0.979     0.777     0.866      5679\n",
      "\n",
      "    accuracy                          0.757      6092\n",
      "   macro avg      0.433     0.625     0.453      6092\n",
      "weighted avg      0.922     0.757     0.822      6092\n",
      "\n",
      "=== TEST (downsampled-train) ===\n",
      "              precision    recall  f1-score   support\n",
      "\n",
      "    negative      0.223     0.698     0.338       139\n",
      "     neutral      0.097     0.398     0.156       274\n",
      "    positive      0.976     0.779     0.867      5679\n",
      "\n",
      "    accuracy                          0.760      6092\n",
      "   macro avg      0.432     0.625     0.454      6092\n",
      "weighted avg      0.919     0.760     0.823      6092\n",
      "\n",
      "Confusion matrix (TEST):\n",
      " [[  97   32   10]\n",
      " [  66  109   99]\n",
      " [ 272  981 4426]]\n"
     ]
    }
   ],
   "source": [
    "from sklearn.linear_model import LogisticRegression\n",
    "from sklearn.metrics import classification_report, confusion_matrix\n",
    "\n",
    "clf = LogisticRegression(max_iter=3000, class_weight=\"balanced\")\n",
    "clf.fit(E_train, y_train)\n",
    "\n",
    "print(\"=== VAL (downsampled-train) ===\")\n",
    "pred_val = clf.predict(E_val)\n",
    "print(classification_report(y_val, pred_val, digits=3))\n",
    "\n",
    "print(\"=== TEST (downsampled-train) ===\")\n",
    "pred_test = clf.predict(E_test)\n",
    "print(classification_report(y_test, pred_test, digits=3))\n",
    "print(\"Confusion matrix (TEST):\\n\", confusion_matrix(y_test, pred_test))\n"
   ]
  },
  {
   "cell_type": "markdown",
   "id": "e08d3917",
   "metadata": {},
   "source": [
    "### LinearSVC"
   ]
  },
  {
   "cell_type": "code",
   "execution_count": 54,
   "id": "121caae7",
   "metadata": {},
   "outputs": [
    {
     "name": "stdout",
     "output_type": "stream",
     "text": [
      "=== VAL (LinearSVC+calibration) ===\n",
      "              precision    recall  f1-score   support\n",
      "\n",
      "    negative      0.432     0.482     0.456       139\n",
      "     neutral      0.248     0.197     0.220       274\n",
      "    positive      0.961     0.968     0.965      5679\n",
      "\n",
      "    accuracy                          0.922      6092\n",
      "   macro avg      0.547     0.549     0.547      6092\n",
      "weighted avg      0.917     0.922     0.920      6092\n",
      "\n",
      "=== TEST (LinearSVC+calibration) ===\n",
      "              precision    recall  f1-score   support\n",
      "\n",
      "    negative      0.417     0.453     0.434       139\n",
      "     neutral      0.266     0.197     0.226       274\n",
      "    positive      0.959     0.969     0.964      5679\n",
      "\n",
      "    accuracy                          0.923      6092\n",
      "   macro avg      0.547     0.540     0.542      6092\n",
      "weighted avg      0.916     0.923     0.919      6092\n",
      "\n",
      "Confusion matrix (TEST):\n",
      " [[  63   32   44]\n",
      " [  29   54  191]\n",
      " [  59  117 5503]]\n"
     ]
    }
   ],
   "source": [
    "class_weight = {\"negative\": 6.0, \"neutral\": 3.0, \"positive\": 1.0}\n",
    "\n",
    "base_svc = LinearSVC(class_weight=class_weight, max_iter=5000)\n",
    "clf = CalibratedClassifierCV(base_svc, method=\"sigmoid\", cv=3)   # Platt scaling\n",
    "clf.fit(E_train, y_train)\n",
    "\n",
    "\n",
    "print(\"=== VAL (LinearSVC+calibration) ===\")\n",
    "pred_val = clf.predict(E_val)\n",
    "print(classification_report(y_val, pred_val, digits=3))\n",
    "\n",
    "print(\"=== TEST (LinearSVC+calibration) ===\")\n",
    "pred_test = clf.predict(E_test)\n",
    "print(classification_report(y_test, pred_test, digits=3))\n",
    "print(\"Confusion matrix (TEST):\\n\", confusion_matrix(y_test, pred_test))\n"
   ]
  },
  {
   "cell_type": "markdown",
   "id": "df47eade",
   "metadata": {},
   "source": [
    "### Semantic Search (FAISS)"
   ]
  },
  {
   "cell_type": "code",
   "execution_count": 55,
   "id": "c90b5b20",
   "metadata": {},
   "outputs": [
    {
     "name": "stdout",
     "output_type": "stream",
     "text": [
      "QUERY: Cepet banget baru 1 hari uda aku terima. makasih ya.\n"
     ]
    },
    {
     "data": {
      "text/html": [
       "<div>\n",
       "<style scoped>\n",
       "    .dataframe tbody tr th:only-of-type {\n",
       "        vertical-align: middle;\n",
       "    }\n",
       "\n",
       "    .dataframe tbody tr th {\n",
       "        vertical-align: top;\n",
       "    }\n",
       "\n",
       "    .dataframe thead th {\n",
       "        text-align: right;\n",
       "    }\n",
       "</style>\n",
       "<table border=\"1\" class=\"dataframe\">\n",
       "  <thead>\n",
       "    <tr style=\"text-align: right;\">\n",
       "      <th></th>\n",
       "      <th>text</th>\n",
       "      <th>label</th>\n",
       "      <th>score</th>\n",
       "    </tr>\n",
       "  </thead>\n",
       "  <tbody>\n",
       "    <tr>\n",
       "      <th>18600</th>\n",
       "      <td>Pengiriman cepat. \\nSaat dicoba, barang berfun...</td>\n",
       "      <td>positive</td>\n",
       "      <td>0.863556</td>\n",
       "    </tr>\n",
       "    <tr>\n",
       "      <th>29722</th>\n",
       "      <td>Thank you. Good product.</td>\n",
       "      <td>positive</td>\n",
       "      <td>0.829050</td>\n",
       "    </tr>\n",
       "    <tr>\n",
       "      <th>9851</th>\n",
       "      <td>Produk ok..... ..    ...........</td>\n",
       "      <td>positive</td>\n",
       "      <td>0.827824</td>\n",
       "    </tr>\n",
       "    <tr>\n",
       "      <th>7355</th>\n",
       "      <td>Trimkah brang sudah sampai</td>\n",
       "      <td>positive</td>\n",
       "      <td>0.822676</td>\n",
       "    </tr>\n",
       "    <tr>\n",
       "      <th>12723</th>\n",
       "      <td>Pesanan sdh sampai, terimakasih</td>\n",
       "      <td>positive</td>\n",
       "      <td>0.815312</td>\n",
       "    </tr>\n",
       "  </tbody>\n",
       "</table>\n",
       "</div>"
      ],
      "text/plain": [
       "                                                    text     label     score\n",
       "18600  Pengiriman cepat. \\nSaat dicoba, barang berfun...  positive  0.863556\n",
       "29722                           Thank you. Good product.  positive  0.829050\n",
       "9851                    Produk ok..... ..    ...........  positive  0.827824\n",
       "7355                          Trimkah brang sudah sampai  positive  0.822676\n",
       "12723                    Pesanan sdh sampai, terimakasih  positive  0.815312"
      ]
     },
     "execution_count": 55,
     "metadata": {},
     "output_type": "execute_result"
    }
   ],
   "source": [
    "dim = E_train.shape[1]\n",
    "faiss_index = faiss.IndexFlatIP(dim)   # cosine via normalized embeddings\n",
    "faiss_index.add(E_train)\n",
    "\n",
    "def topk_similar(text, k=5):\n",
    "    v = embed([text])\n",
    "    D, I = faiss_index.search(v, k)\n",
    "    rows = X_train.iloc[I[0]][[\"text\",\"label\"]].copy()\n",
    "    rows[\"score\"] = D[0]\n",
    "    return rows\n",
    "\n",
    "# demo\n",
    "sample = X_test.sample(1).iloc[0]\n",
    "print(\"QUERY:\", sample[\"text\"])\n",
    "topk_similar(sample[\"text\"], k=5)"
   ]
  },
  {
   "cell_type": "code",
   "execution_count": 56,
   "id": "2712b6ff",
   "metadata": {},
   "outputs": [
    {
     "name": "stdout",
     "output_type": "stream",
     "text": [
      "Predicted: positive\n"
     ]
    },
    {
     "data": {
      "text/html": [
       "<div>\n",
       "<style scoped>\n",
       "    .dataframe tbody tr th:only-of-type {\n",
       "        vertical-align: middle;\n",
       "    }\n",
       "\n",
       "    .dataframe tbody tr th {\n",
       "        vertical-align: top;\n",
       "    }\n",
       "\n",
       "    .dataframe thead th {\n",
       "        text-align: right;\n",
       "    }\n",
       "</style>\n",
       "<table border=\"1\" class=\"dataframe\">\n",
       "  <thead>\n",
       "    <tr style=\"text-align: right;\">\n",
       "      <th></th>\n",
       "      <th>text</th>\n",
       "      <th>label</th>\n",
       "      <th>score</th>\n",
       "    </tr>\n",
       "  </thead>\n",
       "  <tbody>\n",
       "    <tr>\n",
       "      <th>34976</th>\n",
       "      <td>barang sudah di terima dengan baik</td>\n",
       "      <td>positive</td>\n",
       "      <td>0.945536</td>\n",
       "    </tr>\n",
       "    <tr>\n",
       "      <th>11880</th>\n",
       "      <td>Bagus.... Awalnya kekecilan krn saya pesan ber...</td>\n",
       "      <td>positive</td>\n",
       "      <td>0.899698</td>\n",
       "    </tr>\n",
       "    <tr>\n",
       "      <th>19185</th>\n",
       "      <td>Barang sudah sampai, bekerja dengan baik.</td>\n",
       "      <td>positive</td>\n",
       "      <td>0.899395</td>\n",
       "    </tr>\n",
       "  </tbody>\n",
       "</table>\n",
       "</div>"
      ],
      "text/plain": [
       "                                                    text     label     score\n",
       "34976                 barang sudah di terima dengan baik  positive  0.945536\n",
       "11880  Bagus.... Awalnya kekecilan krn saya pesan ber...  positive  0.899698\n",
       "19185          Barang sudah sampai, bekerja dengan baik.  positive  0.899395"
      ]
     },
     "metadata": {},
     "output_type": "display_data"
    }
   ],
   "source": [
    "def predict_with_neighbors(text, k=5):\n",
    "    v = embed([text])\n",
    "    label = clf.predict(v)[0]\n",
    "    D, I = faiss_index.search(v, k)\n",
    "    nbrs = X_train.iloc[I[0]][[\"text\",\"label\"]].copy()\n",
    "    nbrs[\"score\"] = D[0]\n",
    "    return label, nbrs\n",
    "\n",
    "lab, nbrs = predict_with_neighbors(\"Barang sesuai deskripsi, kualitas bagus dan pengiriman cepat.\", 3)\n",
    "print(\"Predicted:\", lab); display(nbrs)\n"
   ]
  }
 ],
 "metadata": {
  "kernelspec": {
   "display_name": "venv",
   "language": "python",
   "name": "python3"
  },
  "language_info": {
   "codemirror_mode": {
    "name": "ipython",
    "version": 3
   },
   "file_extension": ".py",
   "mimetype": "text/x-python",
   "name": "python",
   "nbconvert_exporter": "python",
   "pygments_lexer": "ipython3",
   "version": "3.11.3"
  }
 },
 "nbformat": 4,
 "nbformat_minor": 5
}
