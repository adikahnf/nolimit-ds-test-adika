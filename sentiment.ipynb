{
 "cells": [
  {
   "cell_type": "markdown",
   "id": "bfd164e4",
   "metadata": {},
   "source": [
    "\n",
    "# Tokopedia Product Reviews — Text Classification (Sentiment)\n",
    "\n",
    "This notebook walks through an **end‑to‑end sentiment classification** pipeline on Indonesian e‑commerce reviews (**Tokopedia**).  \n",
    "\n",
    "> **Workflow**: Data Loading → Preprocessing → Embedding → Training → Evaluation → Prediction \n",
    "\n",
    "**Dataset**: Tokopedia Product Reviews (≈40k rows). Original source on Kaggle; a maintained mirror also exists on Hugging Face Datasets.  \n",
    "- Kaggle: `farhan999/tokopedia-product-reviews` (requires Kaggle login to access/download)  \n",
    "- Hugging Face mirror & license: **Apache-2.0**. See the dataset card for details. *(You must still comply with Tokopedia's TOS and applicable laws when using scraped data.)*"
   ]
  },
  {
   "cell_type": "markdown",
   "id": "a377031c",
   "metadata": {},
   "source": [
    "\n",
    "## 📚 Dataset & License\n",
    "\n",
    "- **Name**: Tokopedia Product Reviews (≈40k rows, Indonesian)  \n",
    "- **Source**: Originally shared on Kaggle by *farhan999*; community mirror on Hugging Face Datasets: `farhamu/tokopedia-product-reviews-2019` (license: **Apache-2.0**).  \n",
    "- **Usage**: Ensure compliance with **Tokopedia Terms of Service** and the dataset's license. If you export/redistribute, include proper **attribution** and license text.\n",
    "- **Ethics**: Reviews are user-generated content; be mindful of bias and do not attempt to deanonymize individuals.\n"
   ]
  },
  {
   "cell_type": "markdown",
   "id": "3613e7fe",
   "metadata": {},
   "source": [
    "### Import Necessary Libraries"
   ]
  },
  {
   "cell_type": "code",
   "execution_count": 74,
   "id": "1402cda9",
   "metadata": {},
   "outputs": [],
   "source": [
    "import pandas as pd\n",
    "import os\n",
    "import matplotlib.pyplot as plt\n",
    "import faiss\n",
    "import re\n",
    "import seaborn as sns\n",
    "import joblib\n",
    "\n",
    "from sklearn.calibration import CalibratedClassifierCV\n",
    "from sklearn.svm import LinearSVC\n",
    "from sklearn.model_selection import train_test_split\n",
    "from sklearn.metrics import classification_report, accuracy_score, confusion_matrix, f1_score\n",
    "from sklearn.linear_model import LogisticRegression\n",
    "from sentence_transformers import SentenceTransformer"
   ]
  },
  {
   "cell_type": "markdown",
   "id": "271a3e72",
   "metadata": {},
   "source": [
    "### Data Loading"
   ]
  },
  {
   "cell_type": "code",
   "execution_count": 79,
   "id": "06952686",
   "metadata": {},
   "outputs": [],
   "source": [
    "DATA_PATH = \"data/tokopedia-product-reviews-2019.csv\""
   ]
  },
  {
   "cell_type": "code",
   "execution_count": 80,
   "id": "49bc7ac5",
   "metadata": {},
   "outputs": [
    {
     "name": "stdout",
     "output_type": "stream",
     "text": [
      "Loaded Full Dataset : data/tokopedia-product-reviews-2019.csv -> (40607, 8)\n"
     ]
    }
   ],
   "source": [
    "# Load Dataset\n",
    "if os.path.exists(DATA_PATH):\n",
    "    df = pd.read_csv(DATA_PATH, index_col=0)\n",
    "    print(f\"Loaded Full Dataset : {DATA_PATH} -> {df.shape}\")\n",
    "else:\n",
    "    raise FileNotFoundError(\n",
    "        \"No CSV found. Please place a CSV in directory\"\n",
    "    )"
   ]
  },
  {
   "cell_type": "code",
   "execution_count": 81,
   "id": "6c7dfc0c",
   "metadata": {},
   "outputs": [
    {
     "name": "stdout",
     "output_type": "stream",
     "text": [
      "Dataset Overview : \n",
      "Columns : ['text', 'rating', 'category', 'product_name', 'product_id', 'sold', 'shop_id', 'product_url']\n",
      "\n",
      "First 5 Rows : \n"
     ]
    },
    {
     "data": {
      "text/html": [
       "<div>\n",
       "<style scoped>\n",
       "    .dataframe tbody tr th:only-of-type {\n",
       "        vertical-align: middle;\n",
       "    }\n",
       "\n",
       "    .dataframe tbody tr th {\n",
       "        vertical-align: top;\n",
       "    }\n",
       "\n",
       "    .dataframe thead th {\n",
       "        text-align: right;\n",
       "    }\n",
       "</style>\n",
       "<table border=\"1\" class=\"dataframe\">\n",
       "  <thead>\n",
       "    <tr style=\"text-align: right;\">\n",
       "      <th></th>\n",
       "      <th>text</th>\n",
       "      <th>rating</th>\n",
       "      <th>category</th>\n",
       "      <th>product_name</th>\n",
       "      <th>product_id</th>\n",
       "      <th>sold</th>\n",
       "      <th>shop_id</th>\n",
       "      <th>product_url</th>\n",
       "    </tr>\n",
       "  </thead>\n",
       "  <tbody>\n",
       "    <tr>\n",
       "      <th>1</th>\n",
       "      <td>Barang sesuai pesanan dan cepat sampai</td>\n",
       "      <td>5</td>\n",
       "      <td>pertukangan</td>\n",
       "      <td>Staples Dekorasi Staples Kayu + Refill 8mm - S...</td>\n",
       "      <td>418660637</td>\n",
       "      <td>1</td>\n",
       "      <td>1740837</td>\n",
       "      <td>https://www.tokopedia.com/shakaonline87/staple...</td>\n",
       "    </tr>\n",
       "    <tr>\n",
       "      <th>2</th>\n",
       "      <td>Barang bagus harga murah</td>\n",
       "      <td>5</td>\n",
       "      <td>pertukangan</td>\n",
       "      <td>STAPLE GUN ATS 3 WAY TACKER - STAPLES JOK TEMB...</td>\n",
       "      <td>416032545</td>\n",
       "      <td>11</td>\n",
       "      <td>1477109</td>\n",
       "      <td>https://www.tokopedia.com/juraganperkakas/stap...</td>\n",
       "    </tr>\n",
       "    <tr>\n",
       "      <th>3</th>\n",
       "      <td>Paket rapi...mantap....cepat....sampe ke tujuan</td>\n",
       "      <td>5</td>\n",
       "      <td>pertukangan</td>\n",
       "      <td>STAPLE GUN ATS 3 WAY TACKER - STAPLES JOK TEMB...</td>\n",
       "      <td>416032545</td>\n",
       "      <td>11</td>\n",
       "      <td>1477109</td>\n",
       "      <td>https://www.tokopedia.com/juraganperkakas/stap...</td>\n",
       "    </tr>\n",
       "    <tr>\n",
       "      <th>4</th>\n",
       "      <td>ya saya puas dgn barangnya</td>\n",
       "      <td>5</td>\n",
       "      <td>pertukangan</td>\n",
       "      <td>ALAT STAPLES TEMBAK &amp;#40;AIR NAILER GUN&amp;#41; O...</td>\n",
       "      <td>102279869</td>\n",
       "      <td>5</td>\n",
       "      <td>771395</td>\n",
       "      <td>https://www.tokopedia.com/kamarmesin/alat-stap...</td>\n",
       "    </tr>\n",
       "    <tr>\n",
       "      <th>5</th>\n",
       "      <td>Responya luar biasa b mantap</td>\n",
       "      <td>5</td>\n",
       "      <td>pertukangan</td>\n",
       "      <td>Isi Refill Staples Jok Kulit Motor / Staple Gu...</td>\n",
       "      <td>190679689</td>\n",
       "      <td>787</td>\n",
       "      <td>969999</td>\n",
       "      <td>https://www.tokopedia.com/mitrapersada/isi-ref...</td>\n",
       "    </tr>\n",
       "  </tbody>\n",
       "</table>\n",
       "</div>"
      ],
      "text/plain": [
       "                                              text  rating     category  \\\n",
       "1           Barang sesuai pesanan dan cepat sampai       5  pertukangan   \n",
       "2                         Barang bagus harga murah       5  pertukangan   \n",
       "3  Paket rapi...mantap....cepat....sampe ke tujuan       5  pertukangan   \n",
       "4                       ya saya puas dgn barangnya       5  pertukangan   \n",
       "5                     Responya luar biasa b mantap       5  pertukangan   \n",
       "\n",
       "                                        product_name  product_id sold  \\\n",
       "1  Staples Dekorasi Staples Kayu + Refill 8mm - S...   418660637    1   \n",
       "2  STAPLE GUN ATS 3 WAY TACKER - STAPLES JOK TEMB...   416032545   11   \n",
       "3  STAPLE GUN ATS 3 WAY TACKER - STAPLES JOK TEMB...   416032545   11   \n",
       "4  ALAT STAPLES TEMBAK &#40;AIR NAILER GUN&#41; O...   102279869    5   \n",
       "5  Isi Refill Staples Jok Kulit Motor / Staple Gu...   190679689  787   \n",
       "\n",
       "   shop_id                                        product_url  \n",
       "1  1740837  https://www.tokopedia.com/shakaonline87/staple...  \n",
       "2  1477109  https://www.tokopedia.com/juraganperkakas/stap...  \n",
       "3  1477109  https://www.tokopedia.com/juraganperkakas/stap...  \n",
       "4   771395  https://www.tokopedia.com/kamarmesin/alat-stap...  \n",
       "5   969999  https://www.tokopedia.com/mitrapersada/isi-ref...  "
      ]
     },
     "execution_count": 81,
     "metadata": {},
     "output_type": "execute_result"
    }
   ],
   "source": [
    "#Display Basic Info\n",
    "print(\"Dataset Overview : \")\n",
    "print(f\"Columns : {df.columns.tolist()}\")\n",
    "print(f\"\\nFirst 5 Rows : \")\n",
    "df.head()"
   ]
  },
  {
   "cell_type": "code",
   "execution_count": 82,
   "id": "387ecb44",
   "metadata": {},
   "outputs": [
    {
     "name": "stdout",
     "output_type": "stream",
     "text": [
      "<class 'pandas.core.frame.DataFrame'>\n",
      "Index: 40607 entries, 1 to 40893\n",
      "Data columns (total 8 columns):\n",
      " #   Column        Non-Null Count  Dtype \n",
      "---  ------        --------------  ----- \n",
      " 0   text          40607 non-null  object\n",
      " 1   rating        40607 non-null  int64 \n",
      " 2   category      40607 non-null  object\n",
      " 3   product_name  40607 non-null  object\n",
      " 4   product_id    40607 non-null  int64 \n",
      " 5   sold          40593 non-null  object\n",
      " 6   shop_id       40607 non-null  int64 \n",
      " 7   product_url   40607 non-null  object\n",
      "dtypes: int64(3), object(5)\n",
      "memory usage: 2.8+ MB\n"
     ]
    }
   ],
   "source": [
    "df.info()"
   ]
  },
  {
   "cell_type": "markdown",
   "id": "7076aeba",
   "metadata": {},
   "source": [
    "### Exploratory Data Analysis"
   ]
  },
  {
   "cell_type": "code",
   "execution_count": 83,
   "id": "6c543c0e",
   "metadata": {},
   "outputs": [
    {
     "name": "stdout",
     "output_type": "stream",
     "text": [
      "Performing Exploratory Data Analysis...\n",
      "\n",
      " Dataset Statistics:\n",
      "Missing values: \n",
      " text             0\n",
      "rating           0\n",
      "category         0\n",
      "product_name     0\n",
      "product_id       0\n",
      "sold            14\n",
      "shop_id          0\n",
      "product_url      0\n",
      "dtype: int64\n",
      "Duplicate Data :  0\n"
     ]
    },
    {
     "data": {
      "image/png": "[encoded data removed]",
      "text/plain": [
       "<Figure size 1200x400 with 1 Axes>"
      ]
     },
     "metadata": {},
     "output_type": "display_data"
    }
   ],
   "source": [
    "def perform_eda(df):\n",
    "    \"\"\"\n",
    "    Comprehensive exploratory data analysis\n",
    "    \"\"\"\n",
    "    \n",
    "    print(\"Performing Exploratory Data Analysis...\")\n",
    "    \n",
    "    # Basic statistics\n",
    "    print(\"\\n Dataset Statistics:\")\n",
    "    print(\"Missing values: \\n\", df.isna().sum())\n",
    "    print(\"Duplicate Data : \", df.duplicated().sum())\n",
    "    \n",
    "    # Rating distribution\n",
    "    if 'rating' in df.columns:\n",
    "        plt.figure(figsize=(12, 4))\n",
    "        df['rating'].value_counts().sort_index().plot(kind='bar', color='skyblue')\n",
    "        plt.title('Rating Distribution')\n",
    "        plt.xlabel('Rating')\n",
    "        plt.ylabel('Count')\n",
    "        plt.xticks(rotation=0)\n",
    "        plt.tight_layout()\n",
    "        plt.show()\n",
    "    \n",
    "    return df\n",
    "\n",
    "df_eda = perform_eda(df)"
   ]
  },
  {
   "cell_type": "code",
   "execution_count": 84,
   "id": "bc28bcd6",
   "metadata": {},
   "outputs": [
    {
     "name": "stdout",
     "output_type": "stream",
     "text": [
      "rating\n",
      "5    30311\n",
      "4     7546\n",
      "3     1825\n",
      "1      543\n",
      "2      382\n",
      "Name: count, dtype: int64\n"
     ]
    }
   ],
   "source": [
    "# Check the value of Rating Columns\n",
    "uniques_counts = df['rating'].value_counts()\n",
    "print(uniques_counts)"
   ]
  },
  {
   "cell_type": "markdown",
   "id": "9bf6aace",
   "metadata": {},
   "source": [
    "### Preprocessing\n",
    "Light Cleaning & Labelling. Avoid over-cleaning; keep meaning."
   ]
  },
  {
   "cell_type": "code",
   "execution_count": 85,
   "id": "1b2c5af0",
   "metadata": {},
   "outputs": [],
   "source": [
    "# Light Cleaning \n",
    "def light_clean(text):\n",
    "    text = re.sub(r\"\\s+\", \" \",text).strip() # Normalize whitespace / newlines\n",
    "    return text\n",
    "\n",
    "df['text'] = df['text'].apply(light_clean)"
   ]
  },
  {
   "cell_type": "code",
   "execution_count": 86,
   "id": "d4ba0dec",
   "metadata": {},
   "outputs": [
    {
     "data": {
      "text/html": [
       "<div>\n",
       "<style scoped>\n",
       "    .dataframe tbody tr th:only-of-type {\n",
       "        vertical-align: middle;\n",
       "    }\n",
       "\n",
       "    .dataframe tbody tr th {\n",
       "        vertical-align: top;\n",
       "    }\n",
       "\n",
       "    .dataframe thead th {\n",
       "        text-align: right;\n",
       "    }\n",
       "</style>\n",
       "<table border=\"1\" class=\"dataframe\">\n",
       "  <thead>\n",
       "    <tr style=\"text-align: right;\">\n",
       "      <th></th>\n",
       "      <th>text</th>\n",
       "      <th>rating</th>\n",
       "      <th>label</th>\n",
       "    </tr>\n",
       "  </thead>\n",
       "  <tbody>\n",
       "    <tr>\n",
       "      <th>1</th>\n",
       "      <td>Barang sesuai pesanan dan cepat sampai</td>\n",
       "      <td>5</td>\n",
       "      <td>positive</td>\n",
       "    </tr>\n",
       "    <tr>\n",
       "      <th>2</th>\n",
       "      <td>Barang bagus harga murah</td>\n",
       "      <td>5</td>\n",
       "      <td>positive</td>\n",
       "    </tr>\n",
       "    <tr>\n",
       "      <th>3</th>\n",
       "      <td>Paket rapi...mantap....cepat....sampe ke tujuan</td>\n",
       "      <td>5</td>\n",
       "      <td>positive</td>\n",
       "    </tr>\n",
       "    <tr>\n",
       "      <th>4</th>\n",
       "      <td>ya saya puas dgn barangnya</td>\n",
       "      <td>5</td>\n",
       "      <td>positive</td>\n",
       "    </tr>\n",
       "    <tr>\n",
       "      <th>5</th>\n",
       "      <td>Responya luar biasa b mantap</td>\n",
       "      <td>5</td>\n",
       "      <td>positive</td>\n",
       "    </tr>\n",
       "  </tbody>\n",
       "</table>\n",
       "</div>"
      ],
      "text/plain": [
       "                                              text  rating     label\n",
       "1           Barang sesuai pesanan dan cepat sampai       5  positive\n",
       "2                         Barang bagus harga murah       5  positive\n",
       "3  Paket rapi...mantap....cepat....sampe ke tujuan       5  positive\n",
       "4                       ya saya puas dgn barangnya       5  positive\n",
       "5                     Responya luar biasa b mantap       5  positive"
      ]
     },
     "execution_count": 86,
     "metadata": {},
     "output_type": "execute_result"
    }
   ],
   "source": [
    "# Map Rating -> Sentiment\n",
    "def map_rating_to_label(label):\n",
    "    if label >= 4: return \"positive\"\n",
    "    if label <= 2: return \"negative\"\n",
    "    return \"neutral\"\n",
    "\n",
    "df_sentiment = df.dropna(subset=[\"text\", \"rating\"]).copy()\n",
    "df_sentiment['label'] = df['rating'].astype(int).map(map_rating_to_label)\n",
    "df_sentiment[[\"text\",\"rating\",\"label\"]].head()"
   ]
  },
  {
   "cell_type": "markdown",
   "id": "eda5d46a",
   "metadata": {},
   "source": [
    "### Train / Val / Test Split (Stratified)"
   ]
  },
  {
   "cell_type": "code",
   "execution_count": 87,
   "id": "6dd6515f",
   "metadata": {},
   "outputs": [
    {
     "name": "stdout",
     "output_type": "stream",
     "text": [
      "train label\n",
      "positive    0.932\n",
      "neutral     0.045\n",
      "negative    0.023\n",
      "Name: proportion, dtype: float64\n",
      "val label\n",
      "positive    0.932\n",
      "neutral     0.045\n",
      "negative    0.023\n",
      "Name: proportion, dtype: float64\n",
      "test label\n",
      "positive    0.932\n",
      "neutral     0.045\n",
      "negative    0.023\n",
      "Name: proportion, dtype: float64\n"
     ]
    }
   ],
   "source": [
    "# Test Set \n",
    "X_trainval, X_test = train_test_split(df_sentiment, test_size=0.15, random_state=42, stratify=df_sentiment[\"label\"])\n",
    "\n",
    "# Split 85% to train & validation\n",
    "# Validation 15% so 15% of 85% -> 0.176\n",
    "X_train, X_val = train_test_split(X_trainval, test_size=0.1765, random_state=42, stratify=X_trainval[\"label\"])  # => ~70/15/15 total\n",
    "\n",
    "for name, X in [(\"train\", X_train), (\"val\", X_val), (\"test\", X_test)]:\n",
    "    print(name, X[\"label\"].value_counts(normalize=True).round(3))"
   ]
  },
  {
   "cell_type": "code",
   "execution_count": 88,
   "id": "1f6ef0ae",
   "metadata": {},
   "outputs": [
    {
     "name": "stdout",
     "output_type": "stream",
     "text": [
      "FULL: {'positive': 0.932, 'neutral': 0.045, 'negative': 0.023}\n",
      "TRAIN: {'positive': 0.932, 'neutral': 0.045, 'negative': 0.023}\n",
      "VAL  : {'positive': 0.932, 'neutral': 0.045, 'negative': 0.023}\n",
      "TEST : {'positive': 0.932, 'neutral': 0.045, 'negative': 0.023}\n"
     ]
    }
   ],
   "source": [
    "print(\"FULL:\", df_sentiment[\"label\"].value_counts(normalize=True).round(3).to_dict())\n",
    "print(\"TRAIN:\", X_train[\"label\"].value_counts(normalize=True).round(3).to_dict())\n",
    "print(\"VAL  :\", X_val[\"label\"].value_counts(normalize=True).round(3).to_dict())\n",
    "print(\"TEST :\", X_test[\"label\"].value_counts(normalize=True).round(3).to_dict())"
   ]
  },
  {
   "cell_type": "markdown",
   "id": "abc4ef61",
   "metadata": {},
   "source": [
    "The Stratification is worked make the FULL, TRAIN, VAL, TEST at the same class ratios.\n",
    "\n",
    "The dataset is heavily imbalanced. After mapping ratings to sentiment labels, **about 93.2 % of all reviews are positive**, while neutral reviews make up only ~4.5 % and negative reviews ~2.3 %."
   ]
  },
  {
   "cell_type": "markdown",
   "id": "163aaf98",
   "metadata": {},
   "source": [
    "### Embedding (Sentence-Transformers / HF)\n",
    "encode texts into vectors."
   ]
  },
  {
   "cell_type": "code",
   "execution_count": 89,
   "id": "ebf835ea",
   "metadata": {},
   "outputs": [],
   "source": [
    "# good for Indonesian language\n",
    "model = SentenceTransformer(\"paraphrase-multilingual-MiniLM-L12-v2\")  \n",
    "\n",
    "def embed(texts):\n",
    "    # Converts list into a 2D Numpy array\n",
    "    # Casts to Float32 required for FAISS\n",
    "    return model.encode(texts, convert_to_numpy=True, normalize_embeddings=True).astype(\"float32\")\n",
    "\n",
    "# Pandas Column -> Python list -> 2D Numpy array of numbers (numeric vectors)\n",
    "emb_train = embed(X_train[\"text\"].tolist())\n",
    "emb_val   = embed(X_val[\"text\"].tolist())\n",
    "emb_test  = embed(X_test[\"text\"].tolist())\n",
    "\n",
    "# Label\n",
    "y_train = X_train[\"label\"].tolist()\n",
    "y_val   = X_val[\"label\"].tolist()\n",
    "y_test  = X_test[\"label\"].tolist()"
   ]
  },
  {
   "cell_type": "markdown",
   "id": "43a27c08",
   "metadata": {},
   "source": [
    "### Model Training"
   ]
  },
  {
   "cell_type": "code",
   "execution_count": 90,
   "id": "d4db79d2",
   "metadata": {},
   "outputs": [
    {
     "name": "stdout",
     "output_type": "stream",
     "text": [
      "=== VALIDATION ===\n",
      "              precision    recall  f1-score   support\n",
      "\n",
      "    negative      0.227     0.698     0.342       139\n",
      "     neutral      0.088     0.369     0.142       274\n",
      "    positive      0.978     0.778     0.867      5679\n",
      "\n",
      "    accuracy                          0.758      6092\n",
      "   macro avg      0.431     0.615     0.450      6092\n",
      "weighted avg      0.921     0.758     0.822      6092\n",
      "\n",
      "=== TEST ===\n",
      "              precision    recall  f1-score   support\n",
      "\n",
      "    negative      0.222     0.676     0.334       139\n",
      "     neutral      0.097     0.398     0.156       274\n",
      "    positive      0.976     0.781     0.868      5679\n",
      "\n",
      "    accuracy                          0.762      6092\n",
      "   macro avg      0.432     0.618     0.453      6092\n",
      "weighted avg      0.919     0.762     0.824      6092\n",
      "\n"
     ]
    },
    {
     "data": {
      "image/png": "[encoded data removed]",
      "text/plain": [
       "<Figure size 600x500 with 2 Axes>"
      ]
     },
     "metadata": {},
     "output_type": "display_data"
    },
    {
     "name": "stdout",
     "output_type": "stream",
     "text": [
      "Accuracy (TEST): 0.7616546290216678\n",
      "Macro F1-score (TEST): 0.4526439406191162\n",
      "Weighted F1-score (TEST): 0.8237532846282305\n"
     ]
    }
   ],
   "source": [
    "# Logistic Regression Model \n",
    "clf = LogisticRegression(max_iter=3000, class_weight=\"balanced\")\n",
    "clf.fit(emb_train, y_train)\n",
    "\n",
    "# Validation set\n",
    "print(\"=== VALIDATION ===\")\n",
    "pred_val = clf.predict(emb_val)\n",
    "print(classification_report(y_val, pred_val, digits=3))\n",
    "\n",
    "# Test Set\n",
    "print(\"=== TEST ===\")\n",
    "pred_test = clf.predict(emb_test)\n",
    "\n",
    "# Classification Report\n",
    "print(classification_report(y_test, pred_test, digits=3))\n",
    "# Compute confusion matrix\n",
    "cm = confusion_matrix(y_test, pred_test, labels=clf.classes_)\n",
    "\n",
    "plt.figure(figsize=(6,5))\n",
    "sns.heatmap(cm,\n",
    "            annot=True, fmt='d', cmap='Blues',\n",
    "            xticklabels=clf.classes_,\n",
    "            yticklabels=clf.classes_)\n",
    "plt.xlabel(\"Predicted Label\")\n",
    "plt.ylabel(\"True Label\")\n",
    "plt.title(\"Confusion Matrix (TEST)\")\n",
    "plt.tight_layout()\n",
    "plt.show()\n",
    "\n",
    "# Additional Scores\n",
    "print(\"Accuracy (TEST):\", accuracy_score(y_test, pred_test))\n",
    "print(\"Macro F1-score (TEST):\", f1_score(y_test, pred_test, average=\"macro\"))\n",
    "print(\"Weighted F1-score (TEST):\", f1_score(y_test, pred_test, average=\"weighted\"))"
   ]
  },
  {
   "cell_type": "markdown",
   "id": "6ed2a2e0",
   "metadata": {},
   "source": [
    "- Weighted F1 (overall performance on individual sample) -> stays high (model is great at positive).\n",
    "- Macro F1 (overal balance) ->  stays low (model is poor on negative/neutral).\n",
    "\n",
    "**Per-class insights**\n",
    "\n",
    "* Negative – good recall (0.676) but low precision (0.222): the model finds most negatives but often confuses others as negative.\n",
    "* Neutral – very low precision (0.097) and moderate recall (0.398): the hardest class for the model to identify.\n",
    "* Positive – excellent precision (0.976) and solid recall (0.781): reflects the dominance of positive samples in the dataset.\n"
   ]
  },
  {
   "cell_type": "markdown",
   "id": "c0f81621",
   "metadata": {},
   "source": [
    "### Downsampling Positives into 3x size of (Negative + Neutral) Combined"
   ]
  },
  {
   "cell_type": "code",
   "execution_count": 91,
   "id": "341f21b1",
   "metadata": {},
   "outputs": [
    {
     "name": "stdout",
     "output_type": "stream",
     "text": [
      "TRAIN (original): {'positive': 26499, 'neutral': 1277, 'negative': 647}\n",
      "TRAIN (downsampled): {'positive': 5772, 'neutral': 1277, 'negative': 647}\n"
     ]
    }
   ],
   "source": [
    "# --- Downsample positives in TRAIN only (keep VAL/TEST untouched)\n",
    "train = X_train.copy()\n",
    "\n",
    "pos = train[train.label == \"positive\"]\n",
    "neu = train[train.label == \"neutral\"]\n",
    "neg = train[train.label == \"negative\"]\n",
    "\n",
    "# target: make POS about 3x the size of (NEG+NEU) combined\n",
    "target_pos = int(3 * (len(neu) + len(neg)))\n",
    "\n",
    "# if we have more positives than target, sample down; else keep all\n",
    "pos_down = pos.sample(n=min(len(pos), target_pos), random_state=42)\n",
    "\n",
    "# combine the downsampled positives with all neutrals and negatives, then shuffle and reset the row index\n",
    "train_balanced = pd.concat([pos_down, neu, neg]).sample(frac=1, random_state=42).reset_index(drop=True)\n",
    "\n",
    "print(\"TRAIN (original):\", X_train.label.value_counts().to_dict())\n",
    "print(\"TRAIN (downsampled):\", train_balanced.label.value_counts().to_dict())"
   ]
  },
  {
   "cell_type": "code",
   "execution_count": 92,
   "id": "d9a35a87",
   "metadata": {},
   "outputs": [],
   "source": [
    "# Rebuild embeddings using the downsampled TRAIN\n",
    "emb_train2 = embed(train_balanced[\"text\"].tolist())\n",
    "y_train2 = train_balanced[\"label\"].tolist()\n",
    "\n",
    "# (VAL/TEST stay as you already built)\n",
    "emb_val2   = embed(X_val[\"text\"].tolist())\n",
    "emb_test2  = embed(X_test[\"text\"].tolist())\n",
    "y_val   = X_val[\"label\"].tolist()\n",
    "y_test  = X_test[\"label\"].tolist()"
   ]
  },
  {
   "cell_type": "code",
   "execution_count": 25,
   "id": "fd9feff4",
   "metadata": {},
   "outputs": [
    {
     "name": "stdout",
     "output_type": "stream",
     "text": [
      "=== VALIDATION (downsampling) ===\n",
      "              precision    recall  f1-score   support\n",
      "\n",
      "    negative      0.231     0.727     0.351       139\n",
      "     neutral      0.089     0.372     0.143       274\n",
      "    positive      0.979     0.777     0.866      5679\n",
      "\n",
      "    accuracy                          0.757      6092\n",
      "   macro avg      0.433     0.625     0.453      6092\n",
      "weighted avg      0.922     0.757     0.822      6092\n",
      "\n",
      "=== TEST (downsampling) ===\n",
      "              precision    recall  f1-score   support\n",
      "\n",
      "    negative      0.223     0.698     0.338       139\n",
      "     neutral      0.097     0.398     0.156       274\n",
      "    positive      0.976     0.779     0.867      5679\n",
      "\n",
      "    accuracy                          0.760      6092\n",
      "   macro avg      0.432     0.625     0.454      6092\n",
      "weighted avg      0.919     0.760     0.823      6092\n",
      "\n"
     ]
    },
    {
     "data": {
      "image/png": "[encoded data removed]",
      "text/plain": [
       "<Figure size 600x500 with 2 Axes>"
      ]
     },
     "metadata": {},
     "output_type": "display_data"
    },
    {
     "name": "stdout",
     "output_type": "stream",
     "text": [
      "Accuracy (TEST): 0.7603414313854235\n",
      "Macro F1-score (TEST): 0.4535977217392813\n",
      "Weighted F1-score (TEST): 0.8226350830844557\n"
     ]
    }
   ],
   "source": [
    "from sklearn.linear_model import LogisticRegression\n",
    "from sklearn.metrics import classification_report, confusion_matrix\n",
    "\n",
    "clf = LogisticRegression(max_iter=3000, class_weight=\"balanced\")\n",
    "clf.fit(emb_train2, y_train2)\n",
    "\n",
    "# Validation set\n",
    "print(\"=== VALIDATION (downsampling) ===\")\n",
    "pred_val = clf.predict(emb_val)\n",
    "print(classification_report(y_val, pred_val, digits=3))\n",
    "\n",
    "# Test Set\n",
    "print(\"=== TEST (downsampling) ===\")\n",
    "pred_test = clf.predict(emb_test)\n",
    "\n",
    "# Classification Report\n",
    "print(classification_report(y_test, pred_test, digits=3))\n",
    "# Compute confusion matrix\n",
    "cm = confusion_matrix(y_test, pred_test, labels=clf.classes_)\n",
    "\n",
    "plt.figure(figsize=(6,5))\n",
    "sns.heatmap(cm,\n",
    "            annot=True, fmt='d', cmap='Blues',\n",
    "            xticklabels=clf.classes_,\n",
    "            yticklabels=clf.classes_)\n",
    "plt.xlabel(\"Predicted Label\")\n",
    "plt.ylabel(\"True Label\")\n",
    "plt.title(\"Confusion Matrix (TEST)\")\n",
    "plt.tight_layout()\n",
    "plt.show()\n",
    "\n",
    "# Additional Scores\n",
    "print(\"Accuracy (TEST):\", accuracy_score(y_test, pred_test))\n",
    "print(\"Macro F1-score (TEST):\", f1_score(y_test, pred_test, average=\"macro\"))\n",
    "print(\"Weighted F1-score (TEST):\", f1_score(y_test, pred_test, average=\"weighted\"))\n"
   ]
  },
  {
   "cell_type": "markdown",
   "id": "0d408093",
   "metadata": {},
   "source": [
    "After doing the downsampling, it seems the score is still same as before doing the downsampling "
   ]
  },
  {
   "cell_type": "markdown",
   "id": "e08d3917",
   "metadata": {},
   "source": [
    "### LinearSVC"
   ]
  },
  {
   "cell_type": "code",
   "execution_count": 28,
   "id": "121caae7",
   "metadata": {},
   "outputs": [
    {
     "name": "stdout",
     "output_type": "stream",
     "text": [
      "=== VAL (LinearSVC+calibration) ===\n",
      "              precision    recall  f1-score   support\n",
      "\n",
      "    negative      0.432     0.482     0.456       139\n",
      "     neutral      0.248     0.197     0.220       274\n",
      "    positive      0.961     0.968     0.965      5679\n",
      "\n",
      "    accuracy                          0.922      6092\n",
      "   macro avg      0.547     0.549     0.547      6092\n",
      "weighted avg      0.917     0.922     0.920      6092\n",
      "\n",
      "=== TEST (LinearSVC+calibration) ===\n",
      "              precision    recall  f1-score   support\n",
      "\n",
      "    negative      0.417     0.453     0.434       139\n",
      "     neutral      0.266     0.197     0.226       274\n",
      "    positive      0.959     0.969     0.964      5679\n",
      "\n",
      "    accuracy                          0.923      6092\n",
      "   macro avg      0.547     0.540     0.542      6092\n",
      "weighted avg      0.916     0.923     0.919      6092\n",
      "\n"
     ]
    },
    {
     "data": {
      "image/png": "[encoded data removed]",
      "text/plain": [
       "<Figure size 600x500 with 2 Axes>"
      ]
     },
     "metadata": {},
     "output_type": "display_data"
    },
    {
     "name": "stdout",
     "output_type": "stream",
     "text": [
      "Accuracy (TEST): 0.922521339461589\n",
      "Macro F1-score (TEST): 0.5416329680081716\n",
      "Weighted F1-score (TEST): 0.9187447157404693\n"
     ]
    }
   ],
   "source": [
    "class_weight = {\"negative\": 6.0, \"neutral\": 3.0, \"positive\": 1.0}\n",
    "\n",
    "base_svc = LinearSVC(class_weight=class_weight, max_iter=5000)\n",
    "clf = CalibratedClassifierCV(base_svc, method=\"sigmoid\", cv=3)   # Platt scaling\n",
    "clf.fit(emb_train2, y_train2)\n",
    "\n",
    "# Validation set\n",
    "print(\"=== VAL (LinearSVC+calibration) ===\")\n",
    "pred_val = clf.predict(emb_val)\n",
    "print(classification_report(y_val, pred_val, digits=3))\n",
    "\n",
    "# Test Set\n",
    "print(\"=== TEST (LinearSVC+calibration) ===\")\n",
    "pred_test = clf.predict(emb_test)\n",
    "\n",
    "# Classification Report\n",
    "print(classification_report(y_test, pred_test, digits=3))\n",
    "# Compute confusion matrix\n",
    "cm = confusion_matrix(y_test, pred_test, labels=clf.classes_)\n",
    "\n",
    "plt.figure(figsize=(6,5))\n",
    "sns.heatmap(cm,\n",
    "            annot=True, fmt='d', cmap='Blues',\n",
    "            xticklabels=clf.classes_,\n",
    "            yticklabels=clf.classes_)\n",
    "plt.xlabel(\"Predicted Label\")\n",
    "plt.ylabel(\"True Label\")\n",
    "plt.title(\"Confusion Matrix (TEST)\")\n",
    "plt.tight_layout()\n",
    "plt.show()\n",
    "\n",
    "# Additional Scores\n",
    "print(\"Accuracy (TEST):\", accuracy_score(y_test, pred_test))\n",
    "print(\"Macro F1-score (TEST):\", f1_score(y_test, pred_test, average=\"macro\"))\n",
    "print(\"Weighted F1-score (TEST):\", f1_score(y_test, pred_test, average=\"weighted\"))\n"
   ]
  },
  {
   "cell_type": "markdown",
   "id": "a254950c",
   "metadata": {},
   "source": [
    "SVC Model significantly improves **Macro F1-Score** and minority-class detecion compared to logistic regression, but additional balanced data or advanced sampling would be needed for strong negative/neutral performance."
   ]
  },
  {
   "cell_type": "markdown",
   "id": "df47eade",
   "metadata": {},
   "source": [
    "### Semantic Search (FAISS)"
   ]
  },
  {
   "cell_type": "code",
   "execution_count": 34,
   "id": "65d0b717",
   "metadata": {},
   "outputs": [
    {
     "data": {
      "text/plain": [
       "(28423, 384)"
      ]
     },
     "execution_count": 34,
     "metadata": {},
     "output_type": "execute_result"
    }
   ],
   "source": [
    "emb_train.shape"
   ]
  },
  {
   "cell_type": "code",
   "execution_count": null,
   "id": "c90b5b20",
   "metadata": {},
   "outputs": [
    {
     "name": "stdout",
     "output_type": "stream",
     "text": [
      "QUERY: Produk baik agak terkendala madalah pengiriman karena eror aplikasi\n"
     ]
    },
    {
     "data": {
      "text/html": [
       "<div>\n",
       "<style scoped>\n",
       "    .dataframe tbody tr th:only-of-type {\n",
       "        vertical-align: middle;\n",
       "    }\n",
       "\n",
       "    .dataframe tbody tr th {\n",
       "        vertical-align: top;\n",
       "    }\n",
       "\n",
       "    .dataframe thead th {\n",
       "        text-align: right;\n",
       "    }\n",
       "</style>\n",
       "<table border=\"1\" class=\"dataframe\">\n",
       "  <thead>\n",
       "    <tr style=\"text-align: right;\">\n",
       "      <th></th>\n",
       "      <th>text</th>\n",
       "      <th>label</th>\n",
       "      <th>score</th>\n",
       "    </tr>\n",
       "  </thead>\n",
       "  <tbody>\n",
       "    <tr>\n",
       "      <th>13847</th>\n",
       "      <td>Produk baik, bahan nyaman, agak terkendala kar...</td>\n",
       "      <td>positive</td>\n",
       "      <td>0.815349</td>\n",
       "    </tr>\n",
       "    <tr>\n",
       "      <th>7447</th>\n",
       "      <td>Banyak yang ga lengket...., produk kurang bagus.</td>\n",
       "      <td>negative</td>\n",
       "      <td>0.739876</td>\n",
       "    </tr>\n",
       "    <tr>\n",
       "      <th>37553</th>\n",
       "      <td>Kualitas barang mantap, jasa pengiriman masih ...</td>\n",
       "      <td>positive</td>\n",
       "      <td>0.725452</td>\n",
       "    </tr>\n",
       "    <tr>\n",
       "      <th>39537</th>\n",
       "      <td>kualitas barangnya kurang bagus, tipis, pengir...</td>\n",
       "      <td>neutral</td>\n",
       "      <td>0.722501</td>\n",
       "    </tr>\n",
       "    <tr>\n",
       "      <th>18951</th>\n",
       "      <td>produk cukup baik. packing kurang baik, tidak ...</td>\n",
       "      <td>neutral</td>\n",
       "      <td>0.717981</td>\n",
       "    </tr>\n",
       "  </tbody>\n",
       "</table>\n",
       "</div>"
      ],
      "text/plain": [
       "                                                    text     label     score\n",
       "13847  Produk baik, bahan nyaman, agak terkendala kar...  positive  0.815349\n",
       "7447    Banyak yang ga lengket...., produk kurang bagus.  negative  0.739876\n",
       "37553  Kualitas barang mantap, jasa pengiriman masih ...  positive  0.725452\n",
       "39537  kualitas barangnya kurang bagus, tipis, pengir...   neutral  0.722501\n",
       "18951  produk cukup baik. packing kurang baik, tidak ...   neutral  0.717981"
      ]
     },
     "execution_count": 36,
     "metadata": {},
     "output_type": "execute_result"
    }
   ],
   "source": [
    "# Get the number of columns (dimension)\n",
    "dim = emb_train.shape[1]\n",
    "# cosine via normalized embeddings\n",
    "faiss_index = faiss.IndexFlatIP(dim)   \n",
    "faiss_index.add(emb_train)\n",
    "\n",
    "def topk_similarity(text, k=5):\n",
    "    vec = embed([text])\n",
    "    # Search index for k nearest neighbors to vec\n",
    "    scores, idx = faiss_index.search(vec, k)\n",
    "    rows = X_train.iloc[idx[0]][[\"text\",\"label\"]].copy()\n",
    "    rows[\"score\"] = scores[0]\n",
    "    return rows\n",
    "\n",
    "# Demo, Picks a random texts from test set \n",
    "sample = X_test.sample(1).iloc[0]\n",
    "print(\"QUERY:\", sample[\"text\"])\n",
    "# show the 5 most similar training and their similarity\n",
    "topk_similarity(sample[\"text\"], k=5)"
   ]
  },
  {
   "cell_type": "code",
   "execution_count": 39,
   "id": "2712b6ff",
   "metadata": {},
   "outputs": [
    {
     "name": "stdout",
     "output_type": "stream",
     "text": [
      "Predicted: positive\n"
     ]
    },
    {
     "data": {
      "text/html": [
       "<div>\n",
       "<style scoped>\n",
       "    .dataframe tbody tr th:only-of-type {\n",
       "        vertical-align: middle;\n",
       "    }\n",
       "\n",
       "    .dataframe tbody tr th {\n",
       "        vertical-align: top;\n",
       "    }\n",
       "\n",
       "    .dataframe thead th {\n",
       "        text-align: right;\n",
       "    }\n",
       "</style>\n",
       "<table border=\"1\" class=\"dataframe\">\n",
       "  <thead>\n",
       "    <tr style=\"text-align: right;\">\n",
       "      <th></th>\n",
       "      <th>text</th>\n",
       "      <th>label</th>\n",
       "      <th>score</th>\n",
       "    </tr>\n",
       "  </thead>\n",
       "  <tbody>\n",
       "    <tr>\n",
       "      <th>22250</th>\n",
       "      <td>Barang bagus berkualitas dan pengiriman cepat</td>\n",
       "      <td>positive</td>\n",
       "      <td>0.945536</td>\n",
       "    </tr>\n",
       "    <tr>\n",
       "      <th>39065</th>\n",
       "      <td>Kualitas barang bagus dan pengiriman cepat</td>\n",
       "      <td>positive</td>\n",
       "      <td>0.941386</td>\n",
       "    </tr>\n",
       "    <tr>\n",
       "      <th>20771</th>\n",
       "      <td>Produk bagus sesuai deskripsi, packing baik, p...</td>\n",
       "      <td>positive</td>\n",
       "      <td>0.940268</td>\n",
       "    </tr>\n",
       "  </tbody>\n",
       "</table>\n",
       "</div>"
      ],
      "text/plain": [
       "                                                    text     label     score\n",
       "22250      Barang bagus berkualitas dan pengiriman cepat  positive  0.945536\n",
       "39065         Kualitas barang bagus dan pengiriman cepat  positive  0.941386\n",
       "20771  Produk bagus sesuai deskripsi, packing baik, p...  positive  0.940268"
      ]
     },
     "metadata": {},
     "output_type": "display_data"
    }
   ],
   "source": [
    "def predict_with_neighbors(text, k=5):\n",
    "    vec = embed([text])\n",
    "    label = clf.predict(vec)[0]\n",
    "    scores, idx = faiss_index.search(vec, k)\n",
    "    rows = X_train.iloc[idx[0]][[\"text\",\"label\"]].copy()\n",
    "    rows[\"score\"] = scores[0]\n",
    "    return label, rows\n",
    "\n",
    "lab, rows = predict_with_neighbors(\"Barang sesuai deskripsi, kualitas bagus dan pengiriman cepat.\", 3)\n",
    "print(\"Predicted:\", lab); display(rows)\n"
   ]
  },
  {
   "cell_type": "markdown",
   "id": "336a6911",
   "metadata": {},
   "source": [
    "### Prediction with new Text outside dataset"
   ]
  },
  {
   "cell_type": "code",
   "execution_count": null,
   "id": "be1dea04",
   "metadata": {},
   "outputs": [
    {
     "name": "stdout",
     "output_type": "stream",
     "text": [
      "Text :  Barangnya bagus, pengiriman cepat. Recommended!\n",
      "Pred :  positive\n",
      "Probs :  {'positive': 0.9407085472014453, 'neutral': 0.05604480247775654, 'negative': 0.003246650320798151}\n"
     ]
    },
    {
     "data": {
      "text/html": [
       "<div>\n",
       "<style scoped>\n",
       "    .dataframe tbody tr th:only-of-type {\n",
       "        vertical-align: middle;\n",
       "    }\n",
       "\n",
       "    .dataframe tbody tr th {\n",
       "        vertical-align: top;\n",
       "    }\n",
       "\n",
       "    .dataframe thead th {\n",
       "        text-align: right;\n",
       "    }\n",
       "</style>\n",
       "<table border=\"1\" class=\"dataframe\">\n",
       "  <thead>\n",
       "    <tr style=\"text-align: right;\">\n",
       "      <th></th>\n",
       "      <th>text</th>\n",
       "      <th>label</th>\n",
       "      <th>score</th>\n",
       "    </tr>\n",
       "  </thead>\n",
       "  <tbody>\n",
       "    <tr>\n",
       "      <th>37125</th>\n",
       "      <td>pengiriman cepat, barangnya bagus. Recommended</td>\n",
       "      <td>positive</td>\n",
       "      <td>0.957810</td>\n",
       "    </tr>\n",
       "    <tr>\n",
       "      <th>7609</th>\n",
       "      <td>Barangnya bagus, pengiriman cepat...</td>\n",
       "      <td>positive</td>\n",
       "      <td>0.956542</td>\n",
       "    </tr>\n",
       "    <tr>\n",
       "      <th>39370</th>\n",
       "      <td>barang bagus, sesuai harga, pengiriman cepat</td>\n",
       "      <td>positive</td>\n",
       "      <td>0.953217</td>\n",
       "    </tr>\n",
       "  </tbody>\n",
       "</table>\n",
       "</div>"
      ],
      "text/plain": [
       "                                                 text     label     score\n",
       "37125  pengiriman cepat, barangnya bagus. Recommended  positive  0.957810\n",
       "7609             Barangnya bagus, pengiriman cepat...  positive  0.956542\n",
       "39370    barang bagus, sesuai harga, pengiriman cepat  positive  0.953217"
      ]
     },
     "metadata": {},
     "output_type": "display_data"
    },
    {
     "name": "stdout",
     "output_type": "stream",
     "text": [
      "Text :  Sangat mengecewakan, barang cacat dan layanan lambat.\n",
      "Pred :  negative\n",
      "Probs :  {'negative': 0.7439041069533275, 'neutral': 0.20636087026234914, 'positive': 0.04973502278432324}\n"
     ]
    },
    {
     "data": {
      "text/html": [
       "<div>\n",
       "<style scoped>\n",
       "    .dataframe tbody tr th:only-of-type {\n",
       "        vertical-align: middle;\n",
       "    }\n",
       "\n",
       "    .dataframe tbody tr th {\n",
       "        vertical-align: top;\n",
       "    }\n",
       "\n",
       "    .dataframe thead th {\n",
       "        text-align: right;\n",
       "    }\n",
       "</style>\n",
       "<table border=\"1\" class=\"dataframe\">\n",
       "  <thead>\n",
       "    <tr style=\"text-align: right;\">\n",
       "      <th></th>\n",
       "      <th>text</th>\n",
       "      <th>label</th>\n",
       "      <th>score</th>\n",
       "    </tr>\n",
       "  </thead>\n",
       "  <tbody>\n",
       "    <tr>\n",
       "      <th>10863</th>\n",
       "      <td>Pelayanan kurang memuaskan.slow respon sangat</td>\n",
       "      <td>negative</td>\n",
       "      <td>0.733282</td>\n",
       "    </tr>\n",
       "    <tr>\n",
       "      <th>5846</th>\n",
       "      <td>Pelayanan sangat lambat</td>\n",
       "      <td>neutral</td>\n",
       "      <td>0.637380</td>\n",
       "    </tr>\n",
       "    <tr>\n",
       "      <th>2545</th>\n",
       "      <td>Respon lambat pengiriman lama barang yang di k...</td>\n",
       "      <td>negative</td>\n",
       "      <td>0.614181</td>\n",
       "    </tr>\n",
       "  </tbody>\n",
       "</table>\n",
       "</div>"
      ],
      "text/plain": [
       "                                                    text     label     score\n",
       "10863      Pelayanan kurang memuaskan.slow respon sangat  negative  0.733282\n",
       "5846                             Pelayanan sangat lambat   neutral  0.637380\n",
       "2545   Respon lambat pengiriman lama barang yang di k...  negative  0.614181"
      ]
     },
     "metadata": {},
     "output_type": "display_data"
    },
    {
     "name": "stdout",
     "output_type": "stream",
     "text": [
      "Text :  Kualitas oke, tapi packing kurang rapi jadi agak rusak.\n",
      "Pred :  neutral\n",
      "Probs :  {'neutral': 0.6011960327320233, 'positive': 0.25581526216264633, 'negative': 0.14298870510533038}\n"
     ]
    },
    {
     "data": {
      "text/html": [
       "<div>\n",
       "<style scoped>\n",
       "    .dataframe tbody tr th:only-of-type {\n",
       "        vertical-align: middle;\n",
       "    }\n",
       "\n",
       "    .dataframe tbody tr th {\n",
       "        vertical-align: top;\n",
       "    }\n",
       "\n",
       "    .dataframe thead th {\n",
       "        text-align: right;\n",
       "    }\n",
       "</style>\n",
       "<table border=\"1\" class=\"dataframe\">\n",
       "  <thead>\n",
       "    <tr style=\"text-align: right;\">\n",
       "      <th></th>\n",
       "      <th>text</th>\n",
       "      <th>label</th>\n",
       "      <th>score</th>\n",
       "    </tr>\n",
       "  </thead>\n",
       "  <tbody>\n",
       "    <tr>\n",
       "      <th>18951</th>\n",
       "      <td>produk cukup baik. packing kurang baik, tidak ...</td>\n",
       "      <td>neutral</td>\n",
       "      <td>0.877656</td>\n",
       "    </tr>\n",
       "    <tr>\n",
       "      <th>39537</th>\n",
       "      <td>kualitas barangnya kurang bagus, tipis, pengir...</td>\n",
       "      <td>neutral</td>\n",
       "      <td>0.827538</td>\n",
       "    </tr>\n",
       "    <tr>\n",
       "      <th>9218</th>\n",
       "      <td>Produknya oke. Packing nya tidak oke</td>\n",
       "      <td>positive</td>\n",
       "      <td>0.826458</td>\n",
       "    </tr>\n",
       "  </tbody>\n",
       "</table>\n",
       "</div>"
      ],
      "text/plain": [
       "                                                    text     label     score\n",
       "18951  produk cukup baik. packing kurang baik, tidak ...   neutral  0.877656\n",
       "39537  kualitas barangnya kurang bagus, tipis, pengir...   neutral  0.827538\n",
       "9218                Produknya oke. Packing nya tidak oke  positive  0.826458"
      ]
     },
     "metadata": {},
     "output_type": "display_data"
    }
   ],
   "source": [
    "# Predict on New text (not in dataset)\n",
    "\n",
    "def predict_text(text, k=5):\n",
    "    # Embed new Text\n",
    "    vec = embed([text])\n",
    "    \n",
    "    # Classifier prediction\n",
    "    pred_label = clf.predict(vec)[0]\n",
    "    \n",
    "    # probs\n",
    "    probs = None\n",
    "    if hasattr(clf, \"predict_proba\"):\n",
    "        # shape (n_classes,)\n",
    "        prob_score = clf.predict_proba(vec)[0]\n",
    "        # List Classes into variables\n",
    "        classes = clf.classes_.tolist()\n",
    "        # Pair each class with its probability, cast to float\n",
    "        class_pairs = [(name, float(prob)) for name, prob in zip(classes, prob_score)]\n",
    "        # Sort by highest prob\n",
    "        class_pairs = sorted(class_pairs, key=lambda pair: pair[1], reverse=True)\n",
    "        probs = dict(class_pairs)\n",
    "    \n",
    "    # FAISS \n",
    "    scores, idx = faiss_index.search(vec,k)\n",
    "    rows = X_train.iloc[idx[0]][[\"text\",\"label\"]].copy()\n",
    "    rows[\"score\"] = scores[0]\n",
    "    \n",
    "    result = {\n",
    "        \"input_text\" : text,\n",
    "        \"prediction\" : pred_label,\n",
    "        \"probabilities\" : probs,\n",
    "        \"neighbors\" : rows\n",
    "    }\n",
    "    \n",
    "    return result\n",
    "\n",
    "def show_predict(pred):\n",
    "    print(\"Text : \", pred[\"input_text\"])\n",
    "    print(\"Pred : \", pred[\"prediction\"])\n",
    "    if pred[\"probabilities\"] is not None:\n",
    "        print(\"Probs : \", pred[\"probabilities\"])\n",
    "    display(pred[\"neighbors\"])\n",
    "\n",
    "examples = [\n",
    "    \"Barangnya bagus, pengiriman cepat. Recommended!\",\n",
    "    \"Sangat mengecewakan, barang cacat dan layanan lambat.\",\n",
    "    \"Kualitas oke, tapi packing kurang rapi jadi agak rusak.\"\n",
    "]\n",
    "\n",
    "for review in examples:\n",
    "    show = predict_text(review, k=3)\n",
    "    show_predict(show)\n",
    "    "
   ]
  },
  {
   "cell_type": "code",
   "execution_count": 72,
   "id": "a9143e68",
   "metadata": {},
   "outputs": [
    {
     "data": {
      "text/html": [
       "<div>\n",
       "<style scoped>\n",
       "    .dataframe tbody tr th:only-of-type {\n",
       "        vertical-align: middle;\n",
       "    }\n",
       "\n",
       "    .dataframe tbody tr th {\n",
       "        vertical-align: top;\n",
       "    }\n",
       "\n",
       "    .dataframe thead th {\n",
       "        text-align: right;\n",
       "    }\n",
       "</style>\n",
       "<table border=\"1\" class=\"dataframe\">\n",
       "  <thead>\n",
       "    <tr style=\"text-align: right;\">\n",
       "      <th></th>\n",
       "      <th>text</th>\n",
       "      <th>label</th>\n",
       "    </tr>\n",
       "  </thead>\n",
       "  <tbody>\n",
       "    <tr>\n",
       "      <th>0</th>\n",
       "      <td>Barangnya cakep gilaaa, pengiriman sangat cepat</td>\n",
       "      <td>positive</td>\n",
       "    </tr>\n",
       "    <tr>\n",
       "      <th>1</th>\n",
       "      <td>Kualitas nya bagus, tapi kemasan barangnya rusak</td>\n",
       "      <td>neutral</td>\n",
       "    </tr>\n",
       "    <tr>\n",
       "      <th>2</th>\n",
       "      <td>Sangat mengecewakan, respon lama, barang cacat...</td>\n",
       "      <td>negative</td>\n",
       "    </tr>\n",
       "    <tr>\n",
       "      <th>3</th>\n",
       "      <td>Pelayanan top fast respon, produk sesuai deskr...</td>\n",
       "      <td>positive</td>\n",
       "    </tr>\n",
       "    <tr>\n",
       "      <th>4</th>\n",
       "      <td>Packing kurang rapi namun barang tetap aman</td>\n",
       "      <td>neutral</td>\n",
       "    </tr>\n",
       "  </tbody>\n",
       "</table>\n",
       "</div>"
      ],
      "text/plain": [
       "                                                text     label\n",
       "0    Barangnya cakep gilaaa, pengiriman sangat cepat  positive\n",
       "1   Kualitas nya bagus, tapi kemasan barangnya rusak   neutral\n",
       "2  Sangat mengecewakan, respon lama, barang cacat...  negative\n",
       "3  Pelayanan top fast respon, produk sesuai deskr...  positive\n",
       "4        Packing kurang rapi namun barang tetap aman   neutral"
      ]
     },
     "execution_count": 72,
     "metadata": {},
     "output_type": "execute_result"
    }
   ],
   "source": [
    "df_sample  = pd.read_csv('data/sample_reviews.csv')\n",
    "df_sample.head()"
   ]
  },
  {
   "cell_type": "code",
   "execution_count": 73,
   "id": "fdecbef6",
   "metadata": {},
   "outputs": [
    {
     "name": "stdout",
     "output_type": "stream",
     "text": [
      "Text :  Barangnya cakep gilaaa, pengiriman sangat cepat\n",
      "Pred :  positive\n",
      "Probs :  {'positive': 0.7152801578588402, 'negative': 0.1588981113178872, 'neutral': 0.12582173082327247}\n"
     ]
    },
    {
     "data": {
      "text/html": [
       "<div>\n",
       "<style scoped>\n",
       "    .dataframe tbody tr th:only-of-type {\n",
       "        vertical-align: middle;\n",
       "    }\n",
       "\n",
       "    .dataframe tbody tr th {\n",
       "        vertical-align: top;\n",
       "    }\n",
       "\n",
       "    .dataframe thead th {\n",
       "        text-align: right;\n",
       "    }\n",
       "</style>\n",
       "<table border=\"1\" class=\"dataframe\">\n",
       "  <thead>\n",
       "    <tr style=\"text-align: right;\">\n",
       "      <th></th>\n",
       "      <th>text</th>\n",
       "      <th>label</th>\n",
       "      <th>score</th>\n",
       "    </tr>\n",
       "  </thead>\n",
       "  <tbody>\n",
       "    <tr>\n",
       "      <th>1041</th>\n",
       "      <td>Pengiriman barangnya sangat cepat...</td>\n",
       "      <td>positive</td>\n",
       "      <td>0.846877</td>\n",
       "    </tr>\n",
       "    <tr>\n",
       "      <th>6114</th>\n",
       "      <td>mantap pengiriman fast top banget deh</td>\n",
       "      <td>positive</td>\n",
       "      <td>0.841028</td>\n",
       "    </tr>\n",
       "    <tr>\n",
       "      <th>603</th>\n",
       "      <td>Barang oke pengiriman super cepat</td>\n",
       "      <td>positive</td>\n",
       "      <td>0.839873</td>\n",
       "    </tr>\n",
       "  </tbody>\n",
       "</table>\n",
       "</div>"
      ],
      "text/plain": [
       "                                       text     label     score\n",
       "1041   Pengiriman barangnya sangat cepat...  positive  0.846877\n",
       "6114  mantap pengiriman fast top banget deh  positive  0.841028\n",
       "603       Barang oke pengiriman super cepat  positive  0.839873"
      ]
     },
     "metadata": {},
     "output_type": "display_data"
    },
    {
     "name": "stdout",
     "output_type": "stream",
     "text": [
      "Text :  Kualitas nya bagus, tapi kemasan barangnya rusak\n",
      "Pred :  neutral\n",
      "Probs :  {'neutral': 0.43681355136014965, 'negative': 0.37178496591702803, 'positive': 0.1914014827228223}\n"
     ]
    },
    {
     "data": {
      "text/html": [
       "<div>\n",
       "<style scoped>\n",
       "    .dataframe tbody tr th:only-of-type {\n",
       "        vertical-align: middle;\n",
       "    }\n",
       "\n",
       "    .dataframe tbody tr th {\n",
       "        vertical-align: top;\n",
       "    }\n",
       "\n",
       "    .dataframe thead th {\n",
       "        text-align: right;\n",
       "    }\n",
       "</style>\n",
       "<table border=\"1\" class=\"dataframe\">\n",
       "  <thead>\n",
       "    <tr style=\"text-align: right;\">\n",
       "      <th></th>\n",
       "      <th>text</th>\n",
       "      <th>label</th>\n",
       "      <th>score</th>\n",
       "    </tr>\n",
       "  </thead>\n",
       "  <tbody>\n",
       "    <tr>\n",
       "      <th>18951</th>\n",
       "      <td>produk cukup baik. packing kurang baik, tidak ...</td>\n",
       "      <td>neutral</td>\n",
       "      <td>0.813778</td>\n",
       "    </tr>\n",
       "    <tr>\n",
       "      <th>15030</th>\n",
       "      <td>boxnya sedikit rusak tapi overall bagus barangnya</td>\n",
       "      <td>positive</td>\n",
       "      <td>0.789170</td>\n",
       "    </tr>\n",
       "    <tr>\n",
       "      <th>39510</th>\n",
       "      <td>Produknya bagus sih, sayangnya kekecilan pas d...</td>\n",
       "      <td>positive</td>\n",
       "      <td>0.788341</td>\n",
       "    </tr>\n",
       "  </tbody>\n",
       "</table>\n",
       "</div>"
      ],
      "text/plain": [
       "                                                    text     label     score\n",
       "18951  produk cukup baik. packing kurang baik, tidak ...   neutral  0.813778\n",
       "15030  boxnya sedikit rusak tapi overall bagus barangnya  positive  0.789170\n",
       "39510  Produknya bagus sih, sayangnya kekecilan pas d...  positive  0.788341"
      ]
     },
     "metadata": {},
     "output_type": "display_data"
    },
    {
     "name": "stdout",
     "output_type": "stream",
     "text": [
      "Text :  Sangat mengecewakan, respon lama, barang cacat dan pengiriman pun juga lama \n",
      "Pred :  negative\n",
      "Probs :  {'negative': 0.6844187278234689, 'neutral': 0.27412839127374394, 'positive': 0.04145288090278721}\n"
     ]
    },
    {
     "data": {
      "text/html": [
       "<div>\n",
       "<style scoped>\n",
       "    .dataframe tbody tr th:only-of-type {\n",
       "        vertical-align: middle;\n",
       "    }\n",
       "\n",
       "    .dataframe tbody tr th {\n",
       "        vertical-align: top;\n",
       "    }\n",
       "\n",
       "    .dataframe thead th {\n",
       "        text-align: right;\n",
       "    }\n",
       "</style>\n",
       "<table border=\"1\" class=\"dataframe\">\n",
       "  <thead>\n",
       "    <tr style=\"text-align: right;\">\n",
       "      <th></th>\n",
       "      <th>text</th>\n",
       "      <th>label</th>\n",
       "      <th>score</th>\n",
       "    </tr>\n",
       "  </thead>\n",
       "  <tbody>\n",
       "    <tr>\n",
       "      <th>16688</th>\n",
       "      <td>Sangat mengecewakan. Sudah retur untuk perbaik...</td>\n",
       "      <td>negative</td>\n",
       "      <td>0.738833</td>\n",
       "    </tr>\n",
       "    <tr>\n",
       "      <th>2545</th>\n",
       "      <td>Respon lambat pengiriman lama barang yang di k...</td>\n",
       "      <td>negative</td>\n",
       "      <td>0.682938</td>\n",
       "    </tr>\n",
       "    <tr>\n",
       "      <th>9446</th>\n",
       "      <td>barang tidak sesuai dengan pesanan... pengirim...</td>\n",
       "      <td>neutral</td>\n",
       "      <td>0.670425</td>\n",
       "    </tr>\n",
       "  </tbody>\n",
       "</table>\n",
       "</div>"
      ],
      "text/plain": [
       "                                                    text     label     score\n",
       "16688  Sangat mengecewakan. Sudah retur untuk perbaik...  negative  0.738833\n",
       "2545   Respon lambat pengiriman lama barang yang di k...  negative  0.682938\n",
       "9446   barang tidak sesuai dengan pesanan... pengirim...   neutral  0.670425"
      ]
     },
     "metadata": {},
     "output_type": "display_data"
    },
    {
     "name": "stdout",
     "output_type": "stream",
     "text": [
      "Text :  Pelayanan top fast respon, produk sesuai deskripsi\n",
      "Pred :  positive\n",
      "Probs :  {'positive': 0.9333242588867793, 'neutral': 0.060012029590683656, 'negative': 0.006663711522537093}\n"
     ]
    },
    {
     "data": {
      "text/html": [
       "<div>\n",
       "<style scoped>\n",
       "    .dataframe tbody tr th:only-of-type {\n",
       "        vertical-align: middle;\n",
       "    }\n",
       "\n",
       "    .dataframe tbody tr th {\n",
       "        vertical-align: top;\n",
       "    }\n",
       "\n",
       "    .dataframe thead th {\n",
       "        text-align: right;\n",
       "    }\n",
       "</style>\n",
       "<table border=\"1\" class=\"dataframe\">\n",
       "  <thead>\n",
       "    <tr style=\"text-align: right;\">\n",
       "      <th></th>\n",
       "      <th>text</th>\n",
       "      <th>label</th>\n",
       "      <th>score</th>\n",
       "    </tr>\n",
       "  </thead>\n",
       "  <tbody>\n",
       "    <tr>\n",
       "      <th>27794</th>\n",
       "      <td>fast response, barang sesuai dengan deskripsi ...</td>\n",
       "      <td>positive</td>\n",
       "      <td>0.865373</td>\n",
       "    </tr>\n",
       "    <tr>\n",
       "      <th>32299</th>\n",
       "      <td>fast response pelayanan ramah barang yang dite...</td>\n",
       "      <td>positive</td>\n",
       "      <td>0.861991</td>\n",
       "    </tr>\n",
       "    <tr>\n",
       "      <th>30046</th>\n",
       "      <td>Pelayanan mantabs, fast respon. Untuk barang o...</td>\n",
       "      <td>positive</td>\n",
       "      <td>0.853921</td>\n",
       "    </tr>\n",
       "  </tbody>\n",
       "</table>\n",
       "</div>"
      ],
      "text/plain": [
       "                                                    text     label     score\n",
       "27794  fast response, barang sesuai dengan deskripsi ...  positive  0.865373\n",
       "32299  fast response pelayanan ramah barang yang dite...  positive  0.861991\n",
       "30046  Pelayanan mantabs, fast respon. Untuk barang o...  positive  0.853921"
      ]
     },
     "metadata": {},
     "output_type": "display_data"
    },
    {
     "name": "stdout",
     "output_type": "stream",
     "text": [
      "Text :  Packing kurang rapi namun barang tetap aman\n",
      "Pred :  positive\n",
      "Probs :  {'positive': 0.6718763657562011, 'neutral': 0.2681648710777837, 'negative': 0.05995876316601503}\n"
     ]
    },
    {
     "data": {
      "text/html": [
       "<div>\n",
       "<style scoped>\n",
       "    .dataframe tbody tr th:only-of-type {\n",
       "        vertical-align: middle;\n",
       "    }\n",
       "\n",
       "    .dataframe tbody tr th {\n",
       "        vertical-align: top;\n",
       "    }\n",
       "\n",
       "    .dataframe thead th {\n",
       "        text-align: right;\n",
       "    }\n",
       "</style>\n",
       "<table border=\"1\" class=\"dataframe\">\n",
       "  <thead>\n",
       "    <tr style=\"text-align: right;\">\n",
       "      <th></th>\n",
       "      <th>text</th>\n",
       "      <th>label</th>\n",
       "      <th>score</th>\n",
       "    </tr>\n",
       "  </thead>\n",
       "  <tbody>\n",
       "    <tr>\n",
       "      <th>23829</th>\n",
       "      <td>Packing kurang aman tp untung barang aman...</td>\n",
       "      <td>positive</td>\n",
       "      <td>0.907316</td>\n",
       "    </tr>\n",
       "    <tr>\n",
       "      <th>24024</th>\n",
       "      <td>Packing baik, barang aman</td>\n",
       "      <td>positive</td>\n",
       "      <td>0.875025</td>\n",
       "    </tr>\n",
       "    <tr>\n",
       "      <th>27117</th>\n",
       "      <td>Packing aman, agak lama nyampenya</td>\n",
       "      <td>positive</td>\n",
       "      <td>0.874778</td>\n",
       "    </tr>\n",
       "  </tbody>\n",
       "</table>\n",
       "</div>"
      ],
      "text/plain": [
       "                                               text     label     score\n",
       "23829  Packing kurang aman tp untung barang aman...  positive  0.907316\n",
       "24024                     Packing baik, barang aman  positive  0.875025\n",
       "27117             Packing aman, agak lama nyampenya  positive  0.874778"
      ]
     },
     "metadata": {},
     "output_type": "display_data"
    }
   ],
   "source": [
    "for txt in df_sample['text']:\n",
    "    review = predict_text(txt, k=3)\n",
    "    show_predict(review)"
   ]
  },
  {
   "cell_type": "markdown",
   "id": "4164ae38",
   "metadata": {},
   "source": [
    "### Save model"
   ]
  },
  {
   "cell_type": "code",
   "execution_count": 77,
   "id": "d0346255",
   "metadata": {},
   "outputs": [],
   "source": [
    "MODEL_PATH = \"model\"\n",
    "os.makedirs(MODEL_PATH, exist_ok=True)"
   ]
  },
  {
   "cell_type": "code",
   "execution_count": 78,
   "id": "2462f80b",
   "metadata": {},
   "outputs": [],
   "source": [
    "joblib.dump(clf, os.path.join(MODEL_PATH, \"lr_sentiment.pkl\"))\n",
    "faiss.write_index(faiss_index, os.path.join(MODEL_PATH, \"faiss.index\"))"
   ]
  }
 ],
 "metadata": {
  "kernelspec": {
   "display_name": "venv",
   "language": "python",
   "name": "python3"
  },
  "language_info": {
   "codemirror_mode": {
    "name": "ipython",
    "version": 3
   },
   "file_extension": ".py",
   "mimetype": "text/x-python",
   "name": "python",
   "nbconvert_exporter": "python",
   "pygments_lexer": "ipython3",
   "version": "3.11.3"
  }
 },
 "nbformat": 4,
 "nbformat_minor": 5
}
