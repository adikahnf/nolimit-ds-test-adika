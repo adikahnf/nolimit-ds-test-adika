{
 "cells": [
  {
   "cell_type": "markdown",
   "id": "3613e7fe",
   "metadata": {},
   "source": [
    "### Import Necessary Libraries"
   ]
  },
  {
   "cell_type": "code",
   "execution_count": 2,
   "id": "1402cda9",
   "metadata": {},
   "outputs": [],
   "source": [
    "import pandas as pd\n",
    "import matplotlib.pyplot as plt"
   ]
  },
  {
   "cell_type": "markdown",
   "id": "271a3e72",
   "metadata": {},
   "source": [
    "### Data Understanding"
   ]
  },
  {
   "cell_type": "code",
   "execution_count": 4,
   "id": "49bc7ac5",
   "metadata": {},
   "outputs": [
    {
     "data": {
      "text/html": [
       "<div>\n",
       "<style scoped>\n",
       "    .dataframe tbody tr th:only-of-type {\n",
       "        vertical-align: middle;\n",
       "    }\n",
       "\n",
       "    .dataframe tbody tr th {\n",
       "        vertical-align: top;\n",
       "    }\n",
       "\n",
       "    .dataframe thead th {\n",
       "        text-align: right;\n",
       "    }\n",
       "</style>\n",
       "<table border=\"1\" class=\"dataframe\">\n",
       "  <thead>\n",
       "    <tr style=\"text-align: right;\">\n",
       "      <th></th>\n",
       "      <th>Unnamed: 0</th>\n",
       "      <th>text</th>\n",
       "      <th>rating</th>\n",
       "      <th>category</th>\n",
       "      <th>product_name</th>\n",
       "      <th>product_id</th>\n",
       "      <th>sold</th>\n",
       "      <th>shop_id</th>\n",
       "      <th>product_url</th>\n",
       "    </tr>\n",
       "  </thead>\n",
       "  <tbody>\n",
       "    <tr>\n",
       "      <th>0</th>\n",
       "      <td>1</td>\n",
       "      <td>Barang sesuai pesanan dan cepat sampai</td>\n",
       "      <td>5</td>\n",
       "      <td>pertukangan</td>\n",
       "      <td>Staples Dekorasi Staples Kayu + Refill 8mm - S...</td>\n",
       "      <td>418660637</td>\n",
       "      <td>1</td>\n",
       "      <td>1740837</td>\n",
       "      <td>https://www.tokopedia.com/shakaonline87/staple...</td>\n",
       "    </tr>\n",
       "    <tr>\n",
       "      <th>1</th>\n",
       "      <td>2</td>\n",
       "      <td>Barang bagus harga murah</td>\n",
       "      <td>5</td>\n",
       "      <td>pertukangan</td>\n",
       "      <td>STAPLE GUN ATS 3 WAY TACKER - STAPLES JOK TEMB...</td>\n",
       "      <td>416032545</td>\n",
       "      <td>11</td>\n",
       "      <td>1477109</td>\n",
       "      <td>https://www.tokopedia.com/juraganperkakas/stap...</td>\n",
       "    </tr>\n",
       "    <tr>\n",
       "      <th>2</th>\n",
       "      <td>3</td>\n",
       "      <td>Paket rapi...mantap....cepat....sampe ke tujuan</td>\n",
       "      <td>5</td>\n",
       "      <td>pertukangan</td>\n",
       "      <td>STAPLE GUN ATS 3 WAY TACKER - STAPLES JOK TEMB...</td>\n",
       "      <td>416032545</td>\n",
       "      <td>11</td>\n",
       "      <td>1477109</td>\n",
       "      <td>https://www.tokopedia.com/juraganperkakas/stap...</td>\n",
       "    </tr>\n",
       "    <tr>\n",
       "      <th>3</th>\n",
       "      <td>4</td>\n",
       "      <td>ya saya puas dgn barangnya</td>\n",
       "      <td>5</td>\n",
       "      <td>pertukangan</td>\n",
       "      <td>ALAT STAPLES TEMBAK &amp;#40;AIR NAILER GUN&amp;#41; O...</td>\n",
       "      <td>102279869</td>\n",
       "      <td>5</td>\n",
       "      <td>771395</td>\n",
       "      <td>https://www.tokopedia.com/kamarmesin/alat-stap...</td>\n",
       "    </tr>\n",
       "    <tr>\n",
       "      <th>4</th>\n",
       "      <td>5</td>\n",
       "      <td>Responya luar biasa b mantap</td>\n",
       "      <td>5</td>\n",
       "      <td>pertukangan</td>\n",
       "      <td>Isi Refill Staples Jok Kulit Motor / Staple Gu...</td>\n",
       "      <td>190679689</td>\n",
       "      <td>787</td>\n",
       "      <td>969999</td>\n",
       "      <td>https://www.tokopedia.com/mitrapersada/isi-ref...</td>\n",
       "    </tr>\n",
       "  </tbody>\n",
       "</table>\n",
       "</div>"
      ],
      "text/plain": [
       "   Unnamed: 0                                             text  rating  \\\n",
       "0           1           Barang sesuai pesanan dan cepat sampai       5   \n",
       "1           2                         Barang bagus harga murah       5   \n",
       "2           3  Paket rapi...mantap....cepat....sampe ke tujuan       5   \n",
       "3           4                       ya saya puas dgn barangnya       5   \n",
       "4           5                     Responya luar biasa b mantap       5   \n",
       "\n",
       "      category                                       product_name  product_id  \\\n",
       "0  pertukangan  Staples Dekorasi Staples Kayu + Refill 8mm - S...   418660637   \n",
       "1  pertukangan  STAPLE GUN ATS 3 WAY TACKER - STAPLES JOK TEMB...   416032545   \n",
       "2  pertukangan  STAPLE GUN ATS 3 WAY TACKER - STAPLES JOK TEMB...   416032545   \n",
       "3  pertukangan  ALAT STAPLES TEMBAK &#40;AIR NAILER GUN&#41; O...   102279869   \n",
       "4  pertukangan  Isi Refill Staples Jok Kulit Motor / Staple Gu...   190679689   \n",
       "\n",
       "  sold  shop_id                                        product_url  \n",
       "0    1  1740837  https://www.tokopedia.com/shakaonline87/staple...  \n",
       "1   11  1477109  https://www.tokopedia.com/juraganperkakas/stap...  \n",
       "2   11  1477109  https://www.tokopedia.com/juraganperkakas/stap...  \n",
       "3    5   771395  https://www.tokopedia.com/kamarmesin/alat-stap...  \n",
       "4  787   969999  https://www.tokopedia.com/mitrapersada/isi-ref...  "
      ]
     },
     "execution_count": 4,
     "metadata": {},
     "output_type": "execute_result"
    }
   ],
   "source": [
    "df = pd.read_csv('tokopedia-product-reviews-2019.csv')\n",
    "df.head()"
   ]
  }
 ],
 "metadata": {
  "kernelspec": {
   "display_name": "venv",
   "language": "python",
   "name": "python3"
  },
  "language_info": {
   "codemirror_mode": {
    "name": "ipython",
    "version": 3
   },
   "file_extension": ".py",
   "mimetype": "text/x-python",
   "name": "python",
   "nbconvert_exporter": "python",
   "pygments_lexer": "ipython3",
   "version": "3.11.3"
  }
 },
 "nbformat": 4,
 "nbformat_minor": 5
}
